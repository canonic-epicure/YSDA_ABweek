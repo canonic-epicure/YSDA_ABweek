{
 "cells": [
  {
   "cell_type": "code",
   "id": "initial_id",
   "metadata": {
    "collapsed": true,
    "ExecuteTime": {
     "end_time": "2025-07-31T14:09:59.727736Z",
     "start_time": "2025-07-31T14:09:58.232551Z"
    }
   },
   "source": [
    "import pandas as pd\n",
    "import numpy as np\n",
    "import scipy.stats as stats\n",
    "\n",
    "\n",
    "def safe_divide(x, y):\n",
    "    try:\n",
    "        return x / y\n",
    "    except ZeroDivisionError:\n",
    "        return np.nan\n",
    "\n",
    "def delta_var(numerator, denominator):\n",
    "    \"\"\"\n",
    "    Функция для расчета дисперсии дельта-методом, numerator - вектор числитель, denominator - вектор знаменатель\n",
    "    \"\"\"\n",
    "    x = numerator\n",
    "    y = denominator\n",
    "    n = len(x)\n",
    "    mu_x = np.mean(x)\n",
    "    mu_y = np.mean(y)\n",
    "    var_x = np.var(x, ddof=1)\n",
    "    var_y = np.var(y, ddof=1)\n",
    "    cov_xy = np.cov(x, y, ddof=1)[0][1]\n",
    "    delta_var = safe_divide(\n",
    "        safe_divide(\n",
    "            var_x, mu_y**2\n",
    "        ) - 2*cov_xy*safe_divide(mu_x,mu_y**3) + var_y*safe_divide(mu_x**2,mu_y**4)\n",
    "        ,\n",
    "        n\n",
    "    )\n",
    "    return delta_var\n",
    "\n",
    "\n",
    "data: pd.DataFrame = pd.read_csv('./synthetic_gmv_data_1.2.csv')\n",
    "\n",
    "# agg_1: pd.DataFrame = df.groupby([ 'group_name', 'user_id' ], as_index=False)\n",
    "#\n",
    "# data: pd.DataFrame = agg_1[ 'gmv' ].sum()\n",
    "\n",
    "control = data[data['group_name'] == 'control']\n",
    "test = data[data['group_name'] == 'test']\n",
    "\n",
    "control = control.groupby('user_id', as_index=False).agg(\n",
    "    gmv_sum = ('gmv', 'sum'),\n",
    "    gmv_count = ('gmv', 'count')\n",
    ")\n",
    "\n",
    "test = test.groupby('user_id', as_index=False).agg(\n",
    "    gmv_sum = ('gmv', 'sum'),\n",
    "    gmv_count = ('gmv', 'count')\n",
    ")\n",
    "\n",
    "control, test"
   ],
   "outputs": [
    {
     "data": {
      "text/plain": [
       "(           user_id  gmv_sum  gmv_count\n",
       " 0       00062h7u56      733          1\n",
       " 1       000ic5j18m     2933          6\n",
       " 2       00174ganru     1496          4\n",
       " 3       0018yddvkm     7776          8\n",
       " 4       0018yxz3f4     1671          4\n",
       " ...            ...      ...        ...\n",
       " 147286  zzx6n9u92d     3657          4\n",
       " 147287  zzxa8wbrzd     2118          2\n",
       " 147288  zzxq8adett     2364          4\n",
       " 147289  zzyhn5f9zw     1235          2\n",
       " 147290  zzztoicz6c     3579          5\n",
       " \n",
       " [147291 rows x 3 columns],\n",
       "           user_id  gmv_sum  gmv_count\n",
       " 0      00074uxybk     3187          3\n",
       " 1      000plmykri     1695          5\n",
       " 2      0026yqk83k     1293          3\n",
       " 3      002ioy63br     3862          6\n",
       " 4      0032wrbd7c      765          3\n",
       " ...           ...      ...        ...\n",
       " 49095  zzv633k6jk     3809          7\n",
       " 49096  zzvup22tly     3938          3\n",
       " 49097  zzx7apehbt     3422          4\n",
       " 49098  zzxoenzox7     1141          2\n",
       " 49099  zzyggo4hgm     1923          4\n",
       " \n",
       " [49100 rows x 3 columns])"
      ]
     },
     "execution_count": 2,
     "metadata": {},
     "output_type": "execute_result"
    }
   ],
   "execution_count": 2
  },
  {
   "metadata": {
    "ExecuteTime": {
     "end_time": "2025-07-31T14:10:02.060971Z",
     "start_time": "2025-07-31T14:10:02.032838Z"
    }
   },
   "cell_type": "code",
   "source": [
    "import math\n",
    "gmv_mean_c = control[ 'gmv_sum' ].mean()\n",
    "gmv_mean_t = test[ 'gmv_sum' ].mean()\n",
    "\n",
    "count_mean_c = control[ 'gmv_count' ].mean()\n",
    "count_mean_t = test[ 'gmv_count' ].mean()\n",
    "\n",
    "mean_t = gmv_mean_t / count_mean_t\n",
    "mean_c = gmv_mean_c / count_mean_c\n",
    "\n",
    "var_t = delta_var(test['gmv_sum'], test['gmv_count'])\n",
    "var_c = delta_var(control['gmv_sum'], control['gmv_count'])\n",
    "\n",
    "t_stat = (mean_t - mean_c) / math.sqrt(var_c + var_t)\n",
    "\n",
    "t_stat = round(t_stat, 3)\n",
    "t_stat\n"
   ],
   "id": "f8084adf93525c8d",
   "outputs": [
    {
     "data": {
      "text/plain": [
       "np.float64(2.344)"
      ]
     },
     "execution_count": 3,
     "metadata": {},
     "output_type": "execute_result"
    }
   ],
   "execution_count": 3
  },
  {
   "metadata": {
    "ExecuteTime": {
     "end_time": "2025-07-31T14:10:06.389088Z",
     "start_time": "2025-07-31T14:10:06.373286Z"
    }
   },
   "cell_type": "code",
   "source": [
    "t_dist = stats.t(df=len(control) + len(test) - 2)\n",
    "\n",
    "p_value = round(1 - (t_dist.cdf(t_stat) - t_dist.cdf(-t_stat)), 3)\n",
    "\n",
    "p_value"
   ],
   "id": "62c514e63592b23b",
   "outputs": [
    {
     "data": {
      "text/plain": [
       "np.float64(0.019)"
      ]
     },
     "execution_count": 4,
     "metadata": {},
     "output_type": "execute_result"
    }
   ],
   "execution_count": 4
  },
  {
   "metadata": {
    "ExecuteTime": {
     "end_time": "2025-07-31T14:13:23.814069Z",
     "start_time": "2025-07-31T14:13:23.792400Z"
    }
   },
   "cell_type": "code",
   "source": [
    "def linearization_type_2(x_num, x_denom, y_num, y_denom):\n",
    "    n = len(x_num)\n",
    "    m = len(y_num)\n",
    "    x_num_bar = np.mean(x_num)\n",
    "    y_num_bar = np.mean(y_num)\n",
    "    x_denom_bar = np.mean(x_denom)\n",
    "    y_denom_bar = np.mean(y_denom)\n",
    "    x_estimator = safe_divide(x_num_bar, x_denom_bar)\n",
    "    y_estimator = safe_divide(y_num_bar, y_denom_bar)\n",
    "    delta_estimator = x_estimator - y_estimator\n",
    "    x_linear = x_estimator  + safe_divide(1, x_denom_bar)*(np.array(x_num) - x_estimator*np.array(x_denom))\n",
    "    y_linear = y_estimator  + safe_divide(1, y_denom_bar)*(np.array(y_num) - y_estimator*np.array(y_denom))\n",
    "    t_stat, p_value = stats.ttest_ind(x_linear, y_linear, equal_var=False)\n",
    "\n",
    "    return t_stat, p_value\n",
    "\n",
    "\n",
    "t, p = linearization_type_2(test[ 'gmv_sum' ], test[ 'gmv_count'], control[ 'gmv_sum' ], control[ 'gmv_count' ])\n",
    "\n",
    "round(t.item(), 3), round(p.item(), 3)"
   ],
   "id": "3468efae8b18a9ca",
   "outputs": [
    {
     "data": {
      "text/plain": [
       "(2.344, 0.019)"
      ]
     },
     "execution_count": 9,
     "metadata": {},
     "output_type": "execute_result"
    }
   ],
   "execution_count": 9
  }
 ],
 "metadata": {
  "kernelspec": {
   "display_name": "Python 3",
   "language": "python",
   "name": "python3"
  },
  "language_info": {
   "codemirror_mode": {
    "name": "ipython",
    "version": 2
   },
   "file_extension": ".py",
   "mimetype": "text/x-python",
   "name": "python",
   "nbconvert_exporter": "python",
   "pygments_lexer": "ipython2",
   "version": "2.7.6"
  }
 },
 "nbformat": 4,
 "nbformat_minor": 5
}
