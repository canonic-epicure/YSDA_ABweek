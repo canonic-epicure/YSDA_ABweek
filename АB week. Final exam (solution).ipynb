{
 "cells": [
  {
   "cell_type": "code",
   "execution_count": 1,
   "id": "3996285c",
   "metadata": {
    "ExecuteTime": {
     "end_time": "2025-08-13T18:16:37.717909Z",
     "start_time": "2025-08-13T18:16:36.443711Z"
    }
   },
   "outputs": [],
   "source": [
    "import numpy as np\n",
    "import scipy.stats as stats\n",
    "from tqdm import tqdm as tqdm\n",
    "import random\n",
    "import pandas as pd\n",
    "import string\n",
    "import scipy.stats as stats\n",
    "import math\n",
    "\n",
    "import matplotlib.pyplot as plt\n",
    "import seaborn as sns"
   ]
  },
  {
   "cell_type": "markdown",
   "id": "00a4db91",
   "metadata": {},
   "source": [
    "# A. Вопрос 1\n",
    "В контексте A/B-тестирования, что такое нулевая гипотеза (H₀)?\n",
    " • A) Гипотеза о том, что вариант B (тест) лучше варианта A (контроля).\n",
    " • B) Гипотеза о том, что между вариантами A и B нет статистически значимой разницы.\n",
    " • C) Гипотеза о том, что размер выборки недостаточен для принятия решения.\n",
    " • D) Гипотеза о том, что данные в выборках распределены ненормально.\n",
    " \n",
    "**Правильный ответ:** B\n",
    "\n",
    "**Пояснение:** Нулевая гипотеза всегда предполагает \"отсутствие эффекта\" или \"отсутствие разницы\". Цель A/B-теста — попытаться опровергнуть эту гипотезу, чтобы доказать наличие эффекта.\n",
    "\n",
    "# B. Вопрос 2\n",
    "Что такое p-value в контексте A/B-тестирования?\n",
    " • A) Вероятность того, что альтернативная гипотеза (о наличии различий) верна.\n",
    " • B) Вероятность того, что нулевая гипотеза (об отсутствии различий) верна.\n",
    " • C) Вероятность получить наблюдаемые результаты (или еще более экстремальные), при условии, что нулевая гипотеза верна.\n",
    " • D) Вероятность совершить ошибку I рода в данном конкретном тесте.\n",
    "\n",
    "**Правильный ответ:** C\n",
    "\n",
    "**Пояснение:** P-value отвечает на гипотетический вопрос: \"Насколько вероятно было бы получить наши данные (или даже более ярко выраженные), если бы между вариантами на самом деле не было никакой разницы?\". Низкий p-value (например, < 0.05) означает, что наблюдаемый нами результат был бы очень маловероятен при отсутствии реального эффекта. Это дает нам основание отвергнуть нулевую гипотезу и считать разницу статистически значимой. Важно помнить, что p-value — это НЕ вероятность того, что сама гипотеза верна или неверна.\n",
    "\n",
    "\n",
    "# C. Вопрос 3\n",
    "Что такое ошибка I рода (α) в A/B-тесте?\n",
    " • A) Сказать что эффекта нет, хотя на самом деле он есть. \n",
    " • B) Неправильно рассчитать необходимый размер выборки для теста.\n",
    " • C) Сказать что эффект есть, хотя на самом деле его нет. \n",
    " • D) Преждевременно остановить тест из-за \"подглядывания\" за результатами.\n",
    " \n",
    "**Правильный ответ:** С\n",
    "\n",
    "**Пояснение:** Ошибка I рода (α, уровень значимости) — это вероятность отклонить верную нулевую гипотезу. Проще говоря, мы решаем, что эффект есть, хотя на самом деле его нет, и выкатываем бесполезное или даже вредное изменение.\n",
    "\n",
    "\n",
    "# D. Вопрос 4\n",
    "Что из перечисленного позволит уменьшить необходимый размер выборки для A/B-теста, сохранив остальные параметры неизменными?\n",
    " • A) Уменьшение уровня значимости (α).\n",
    " • B) Уменьшение дисперсии данных.\n",
    " • C) Увеличение мощности критерия (1-β).\n",
    " • D) Уменьшение минимального детектируемого эффекта (MDE).\n",
    " \n",
    "**Правильный ответ:** B\n",
    "\n",
    "**Пояснение:** Уменьшение дисперсии (шума) позволяет легче обнаружить \"сигнал\" (эффект), поэтому для достижения той же мощности и уровня значимости потребуется меньше данных.\n",
    "\n",
    "# E. Вопрос 5\n",
    "С какой целью в A/B-тестировании проводят АА-тесты?\n",
    " • A) Чтобы убедиться, что система сплитования работает корректно и не создает систематических перекосов в группах. \n",
    " • B) Чтобы определить минимальный детектируемый эффект (MDE).\n",
    " • C) Чтобы сравнить конверсии двух уже запущенных версий продукта.\n",
    " • D) Чтобы оценить мощность статистического критерия.\n",
    " \n",
    "**Правильный ответ:** A\n",
    "\n",
    "**Пояснение:** В АА-тесте мы сравниваем две группы без внедренного эффекта. В идеале, мы не должны находить между ними статистически значимых различий чаще, чем в α% случаев (например, 5%). Если различия находятся чаще, значит, наша система сплитования или сбора данных работает некорректно.\n",
    "\n",
    "# F. Вопрос 6\n",
    "Для чего используется тест Шапиро-Уилка?\n",
    " • A) Для сравнения средних двух независимых выборок.\n",
    " • B) Для проверки гипотезы о том, что выборка распределена по нормальному закону.\n",
    " • C) Для сравнения дисперсий двух выборок.\n",
    " • D) Для проверки, взяты ли две выборки из одного и того же распределения.\n",
    " \n",
    "**Правильный ответ:** B\n",
    "\n",
    "**Пояснение:** Тест Шапиро-Уилка — один из самых мощных критериев для проверки нормальности распределения данных.\n",
    "\n",
    "# G. Вопрос 7\n",
    "В какой ситуации следует предпочесть тест Манна-Уитни t-критерию Стьюдента?\n",
    " • A) Когда в данных много выбросов\n",
    " • B) Когда мы хотим рассчитать доверительный интервал для разницы средних.\n",
    " • C) Когда размеры выборок A и B сильно различаются.\n",
    " • D) Для проверки, взяты ли две выборки из одного и того же распределения.\n",
    " \n",
    "**Правильный ответ:** A, D\n",
    "\n",
    "**Пояснение:** Тест Манна-Уитни — это непараметрический критерий. Он не делает предположений о форме распределения данных и работает с рангами, а не с самими значениями, что делает его устойчивым к выбросам. Также этот критерий проверяет приходят ли данные из одного распределения. \n",
    "\n",
    "# H. Вопрос 8\n",
    "Что такое мощность статистического теста (1-β)?\n",
    " • A) Вероятность совершить ошибку I рода.\n",
    " • B) Вероятность того, что результаты теста будут воспроизводимы.\n",
    " • C) Вероятность обнаружить эффект, если он действительно есть.\n",
    " • D) Вероятность того, что данные распределены нормально.\n",
    " \n",
    "**Правильный ответ:** C\n",
    "\n",
    "**Пояснение:** Мощность — это способность нашего теста \"увидеть\" разницу, если она есть на самом деле. Это вероятность не совершить ошибку II рода (не пропустить существующий эффект). Чем выше мощность, тем надежнее тест.\n",
    "\n",
    "# I. Вопрос 9\n",
    " • A) Увеличить размер выборки без привлечения новых пользователей.\n",
    " • B) Уменьшить дисперсию метрики за счет использования данных до начала эксперимента, тем самым повысив чувствительность теста.\n",
    " • C) Исключить влияние сезонности на результаты теста.\n",
    " • D) Скорректировать результаты теста для проблемы множественных сравнений.\n",
    " \n",
    "**Правильный ответ:** B\n",
    "\n",
    "**Пояснение:** CUPED использует ковариату (ту же метрику, но до начала эксперимента), чтобы объяснить часть вариативности в данных. Это позволяет снизить \"шум\" и обнаружить меньшие по размеру эффекты при том же размере выборки.\n",
    "\n",
    "# J.  Вопрос 10\n",
    "A/B-тест показал, что 95% доверительный интервал для процентного изменения метрики (uplift) составляет [-0.5%, +2.5%]. Какой вывод можно сделать?\n",
    " • A) Результат статистически не значим, так как интервал включает ноль.\n",
    " • B) Тест успешен, так как верхняя граница положительная, и мы можем ожидать рост до 2.5%.\n",
    " • C) Тест провалился, так как интервал включает отрицательные значения.\n",
    " • D) Необходимо увеличить мощность теста и провести его заново.\n",
    " \n",
    "**Правильный ответ:** A\n",
    "\n",
    "**Пояснение:**  Если доверительный интервал включает ноль, это означает, что \"отсутствие эффекта\" является одним из возможных результатов. Следовательно, мы не можем отклонить нулевую гипотезу на заданном уровне значимости.\n",
    "\n",
    "# K. Вопрос 11\n",
    "Что такое \"проблема подглядывания\"  в A/B-тестировании?\n",
    " • A) Предоставление доступа к результатам теста слишком широкому кругу лиц в компании.\n",
    " • B) Использование данных конкурентов для оценки своих результатов.\n",
    " • C) Многократная проверка статистической значимости в ходе теста и его остановка при первом достижении p-value < 0.05.\n",
    " • D) Анализ результатов теста на слишком большом количестве сегментов пользователей.\n",
    " \n",
    "**Правильный ответ:** C\n",
    "\n",
    "**Пояснение:** Каждая проверка значимости — это новый \"шанс\" совершить ошибку I рода. Если постоянно \"подглядывать\", то совокупная вероятность получить ложноположительный результат значительно возрастает. Для решения этой проблемы используют, например, групповые последовательные тесты (GST).\n",
    "\n",
    "# L. Вопрос 12\n",
    "Вам нужно провести A/B-тест, сравнивая 5 вариантов нового дизайна главной страницы (1 контрольный + 4 тестовых). Какая проблема возникает при одновременном сравнении всех вариантов с контролем?\n",
    " • A) Проблема стратификации.\n",
    " • B) Проблема недостаточной мощности.\n",
    " • C) Проблема множественного тестирования (multiple comparisons).\n",
    " • D) Проблема подглядывания.\n",
    " \n",
    "**Правильный ответ:** C\n",
    "\n",
    "**Пояснение:** При проведении нескольких сравнений (A vs B, A vs C, A vs D, A vs E) с уровнем значимости α=0.05 для каждого, общая вероятность совершить хотя бы одну ошибку I рода становится намного выше 0.05. Это называется проблемой множественного тестирования"
   ]
  },
  {
   "cell_type": "markdown",
   "id": "b6117287",
   "metadata": {},
   "source": [
    "# M. Оценки\n",
    "\n",
    "Вам даны данные следующего формата: для каждого события зафиксирован идентификатор пользователя (user_id) и сумма транзакции (gmv). Поскольку один пользователь может совершить несколько транзакций, исходные данные представляют собой детализированные (пособытийные), а не агрегированные (поюзерные) данные.\n",
    "\n",
    "Сагрегируйте данные до пользователя (тип агрегации: сумма). Найдите среднее и несмещенную оценку дисперсии. \n",
    "\n",
    "Используйте данные из файла [synthetic_gmv_data_1.1.csv](https://github.com/dakhakimova/ABweek/blob/d4a7c8bcc26d30a2e469d580911a0986c1e1f98b/synthetic_gmv_data_1.1.csv)\n",
    "\n",
    "В качестве ответа введите значение, округлённое до 3-го знака после точки."
   ]
  },
  {
   "cell_type": "markdown",
   "id": "e23da84b",
   "metadata": {},
   "source": [
    "### Ответ на задачу M\n",
    "Среднее: 2750.847, Несмещенная дисперсия: 3646228.409"
   ]
  },
  {
   "cell_type": "markdown",
   "id": "0e38c96b",
   "metadata": {},
   "source": [
    "### Решение задачи M"
   ]
  },
  {
   "cell_type": "code",
   "execution_count": 2,
   "id": "d1935b15",
   "metadata": {
    "ExecuteTime": {
     "end_time": "2025-08-13T18:16:43.793170Z",
     "start_time": "2025-08-13T18:16:41.424651Z"
    }
   },
   "outputs": [],
   "source": [
    "url1 = \"https://raw.githubusercontent.com/dakhakimova/ABweek/d4a7c8bcc26d30a2e469d580911a0986c1e1f98b/synthetic_gmv_data_1.1.csv\"\n",
    "\n",
    "# Читаем CSV файл прямо по ссылке в DataFrame\n",
    "df1 = pd.read_csv(url1)"
   ]
  },
  {
   "cell_type": "code",
   "execution_count": 3,
   "id": "f9f12a02",
   "metadata": {
    "ExecuteTime": {
     "end_time": "2025-08-13T18:16:44.699400Z",
     "start_time": "2025-08-13T18:16:44.688338Z"
    }
   },
   "outputs": [
    {
     "data": {
      "text/html": [
       "<div>\n",
       "<style scoped>\n",
       "    .dataframe tbody tr th:only-of-type {\n",
       "        vertical-align: middle;\n",
       "    }\n",
       "\n",
       "    .dataframe tbody tr th {\n",
       "        vertical-align: top;\n",
       "    }\n",
       "\n",
       "    .dataframe thead th {\n",
       "        text-align: right;\n",
       "    }\n",
       "</style>\n",
       "<table border=\"1\" class=\"dataframe\">\n",
       "  <thead>\n",
       "    <tr style=\"text-align: right;\">\n",
       "      <th></th>\n",
       "      <th>user_id</th>\n",
       "      <th>gmv</th>\n",
       "    </tr>\n",
       "  </thead>\n",
       "  <tbody>\n",
       "    <tr>\n",
       "      <th>0</th>\n",
       "      <td>guo0pdwqvg</td>\n",
       "      <td>506</td>\n",
       "    </tr>\n",
       "    <tr>\n",
       "      <th>1</th>\n",
       "      <td>guo0pdwqvg</td>\n",
       "      <td>760</td>\n",
       "    </tr>\n",
       "    <tr>\n",
       "      <th>2</th>\n",
       "      <td>guo0pdwqvg</td>\n",
       "      <td>633</td>\n",
       "    </tr>\n",
       "    <tr>\n",
       "      <th>3</th>\n",
       "      <td>guo0pdwqvg</td>\n",
       "      <td>506</td>\n",
       "    </tr>\n",
       "    <tr>\n",
       "      <th>4</th>\n",
       "      <td>guo0pdwqvg</td>\n",
       "      <td>760</td>\n",
       "    </tr>\n",
       "  </tbody>\n",
       "</table>\n",
       "</div>"
      ],
      "text/plain": [
       "      user_id  gmv\n",
       "0  guo0pdwqvg  506\n",
       "1  guo0pdwqvg  760\n",
       "2  guo0pdwqvg  633\n",
       "3  guo0pdwqvg  506\n",
       "4  guo0pdwqvg  760"
      ]
     },
     "execution_count": 3,
     "metadata": {},
     "output_type": "execute_result"
    }
   ],
   "source": [
    "df1.head()"
   ]
  },
  {
   "cell_type": "code",
   "execution_count": 4,
   "id": "91364566",
   "metadata": {
    "ExecuteTime": {
     "end_time": "2025-08-13T18:16:47.666457Z",
     "start_time": "2025-08-13T18:16:46.804738Z"
    }
   },
   "outputs": [
    {
     "name": "stdout",
     "output_type": "stream",
     "text": [
      "Среднее: 2750.847, Несмещенная дисперсия: 3646228.409\n"
     ]
    }
   ],
   "source": [
    "#агрегируем по пользователю\n",
    "\n",
    "df1_agg = df1.groupby('user_id')['gmv'].sum().reset_index()\n",
    "\n",
    "#поюзерный gmv-вектор\n",
    "sample = df1_agg['gmv']\n",
    "\n",
    "# среднее значение\n",
    "mean1 = sample.mean()\n",
    "\n",
    "# несмещенная дисперсия\n",
    "var1 = sample.var()\n",
    "\n",
    "\n",
    "print(f\"Среднее: {round(mean1, 3)}, Несмещенная дисперсия: {round(var1, 3)}\")\n"
   ]
  },
  {
   "cell_type": "code",
   "execution_count": 5,
   "id": "b0d79964",
   "metadata": {
    "ExecuteTime": {
     "end_time": "2025-08-13T18:16:49.062570Z",
     "start_time": "2025-08-13T18:16:49.057866Z"
    }
   },
   "outputs": [],
   "source": [
    "#проверяем себя, вычисляя вручную \n",
    "def unbiased_mean_var(sample):\n",
    "    \"\"\"\n",
    "    Рассчитывает несмещенную выборочную дисперсию по формуле.\n",
    "    S² = (1/(n-1)) * Σ(Xi - X̄)²\n",
    "    \"\"\"\n",
    "    n = len(sample)\n",
    "    if n < 2:\n",
    "        # Дисперсия не определена для одного элемента\n",
    "        return float('nan') \n",
    "\n",
    "    mean = sum(sample) / n\n",
    "    sum_squared_diffs = sum([(x - mean) ** 2 for x in sample])\n",
    "    \n",
    "    unbiased_variance = sum_squared_diffs / (n - 1)\n",
    "    return mean, unbiased_variance\n"
   ]
  },
  {
   "cell_type": "code",
   "execution_count": 6,
   "id": "7f7efe23",
   "metadata": {
    "ExecuteTime": {
     "end_time": "2025-08-13T18:17:10.636283Z",
     "start_time": "2025-08-13T18:17:10.523700Z"
    }
   },
   "outputs": [
    {
     "name": "stdout",
     "output_type": "stream",
     "text": [
      "Среднее: 2750.847, Несмещенная дисперсия: 3646228.409\n"
     ]
    }
   ],
   "source": [
    "mean2, var2 = unbiased_mean_var(sample)\n",
    "print(f\"Среднее: {round(mean2, 3)}, Несмещенная дисперсия: {round(var2, 3)}\")\n"
   ]
  },
  {
   "cell_type": "code",
   "execution_count": 7,
   "id": "c16b29ed",
   "metadata": {
    "ExecuteTime": {
     "end_time": "2025-08-13T18:17:13.951211Z",
     "start_time": "2025-08-13T18:17:13.944386Z"
    }
   },
   "outputs": [
    {
     "name": "stdout",
     "output_type": "stream",
     "text": [
      "Среднее: 2750.847, Несмещенная дисперсия: 3646228.409\n"
     ]
    }
   ],
   "source": [
    "#или так\n",
    "mean3 = np.mean(sample)\n",
    "var3 = np.var(sample, ddof=1)\n",
    "print(f\"Среднее: {round(mean3, 3)}, Несмещенная дисперсия: {round(var3, 3)}\")\n"
   ]
  },
  {
   "cell_type": "markdown",
   "id": "f6e0693b",
   "metadata": {},
   "source": [
    "# N.  MDE\n",
    "\n",
    "\n",
    "Используйте оценку матожидания и оценку дисперсии из предыдущей задачи для дизайна эксперимента. \n",
    "\n",
    "Предположим, мы хотим \"увидеть\" эффект в 1% с вероятностью ошибки первого рода 5% и вероятностью ошибки второго рода 20%. \n",
    "\n",
    "Разбиение на тестовую и контрольную группу у нас 1 к 3 (контроль в 3 раза больше теста). Предположим, что дисперсии в тестовой и контрольной группе одинаковые. \n",
    "\n",
    "Сколько всего пользователей должно быть в эксперименте? (окгруглите до целового вверх, используя math.ceil)\n",
    "\n",
    "### Ответ на задачу N\n",
    "\n",
    "Всего пользователей: 201705 или 201706 или 201707\n",
    "\n",
    "### Решение задачи N\n",
    "\n",
    "$$m = \\dfrac{(z_{1-\\alpha/2} + z_{1-\\beta})^2 (1 + k)\\sigma^2}{e^2}$$\n",
    "\n",
    "$$n = \\dfrac{(z_{1-\\alpha/2} + z_{1-\\beta})^2 (1 + k)\\sigma^2}{ke^2}$$"
   ]
  },
  {
   "cell_type": "code",
   "execution_count": 8,
   "id": "59e6ff9a",
   "metadata": {
    "ExecuteTime": {
     "end_time": "2025-08-13T18:19:40.442807Z",
     "start_time": "2025-08-13T18:19:40.438242Z"
    }
   },
   "outputs": [],
   "source": [
    "def control_size(mean, var, effect, k = 1, alpha = 0.05, beta = 0.2):\n",
    "    dist = stats.norm(loc=0, scale=1)\n",
    "    const = (1+k)*(dist.ppf(1- alpha/2) + dist.ppf(1- beta))**2\n",
    "    effect_abs = mean*effect\n",
    "    control_size = const*var/(effect_abs**2)\n",
    "    return control_size"
   ]
  },
  {
   "cell_type": "code",
   "execution_count": 9,
   "id": "fce88560",
   "metadata": {
    "ExecuteTime": {
     "end_time": "2025-08-13T18:19:46.633500Z",
     "start_time": "2025-08-13T18:19:46.627121Z"
    }
   },
   "outputs": [
    {
     "data": {
      "text/plain": [
       "151279.03874389204"
      ]
     },
     "execution_count": 9,
     "metadata": {},
     "output_type": "execute_result"
    }
   ],
   "source": [
    "control_size1 = control_size(mean1, var1, effect = 0.01, k = 3, alpha = 0.05, beta = 0.2)\n",
    "control_size1"
   ]
  },
  {
   "cell_type": "code",
   "execution_count": 10,
   "id": "4d0025c1",
   "metadata": {
    "ExecuteTime": {
     "end_time": "2025-08-13T18:21:47.011375Z",
     "start_time": "2025-08-13T18:21:47.007158Z"
    }
   },
   "outputs": [
    {
     "data": {
      "text/plain": [
       "50426.346247964015"
      ]
     },
     "execution_count": 10,
     "metadata": {},
     "output_type": "execute_result"
    }
   ],
   "source": [
    "test_size1 = control_size1/3\n",
    "test_size1"
   ]
  },
  {
   "cell_type": "code",
   "execution_count": 11,
   "id": "81b3209a",
   "metadata": {
    "ExecuteTime": {
     "end_time": "2025-08-13T18:24:29.662301Z",
     "start_time": "2025-08-13T18:24:29.658725Z"
    }
   },
   "outputs": [
    {
     "name": "stdout",
     "output_type": "stream",
     "text": [
      "Округляем отдельно test и control, подставляем mean, var без округления: 201707\n"
     ]
    }
   ],
   "source": [
    "print(f\"Округляем отдельно test и control, подставляем mean, var без округления: {math.ceil(control_size1) + math.ceil(test_size1)}\")\n",
    "\n"
   ]
  },
  {
   "cell_type": "code",
   "execution_count": 12,
   "id": "fc1a56c3",
   "metadata": {
    "ExecuteTime": {
     "end_time": "2025-08-13T18:26:00.668260Z",
     "start_time": "2025-08-13T18:26:00.663659Z"
    }
   },
   "outputs": [
    {
     "name": "stdout",
     "output_type": "stream",
     "text": [
      "Округляем вместе test и control, подставляем mean, var без округления: 201706\n"
     ]
    }
   ],
   "source": [
    "print(f\"Округляем вместе test и control, подставляем mean, var без округления: {math.ceil(control_size1 + test_size1)}\")\n"
   ]
  },
  {
   "cell_type": "code",
   "execution_count": 13,
   "id": "e0c258f3",
   "metadata": {
    "ExecuteTime": {
     "end_time": "2025-08-13T18:20:36.232241Z",
     "start_time": "2025-08-13T18:20:36.226044Z"
    }
   },
   "outputs": [
    {
     "data": {
      "text/plain": [
       "151279.00679223245"
      ]
     },
     "execution_count": 13,
     "metadata": {},
     "output_type": "execute_result"
    }
   ],
   "source": [
    "#если подставлять округленные значения mean, var\n",
    "control_size2 = control_size(2750.847, 3646228.409, effect = 0.01, k = 3, alpha = 0.05, beta = 0.2)\n",
    "control_size2"
   ]
  },
  {
   "cell_type": "code",
   "execution_count": 14,
   "id": "1d488249",
   "metadata": {
    "ExecuteTime": {
     "end_time": "2025-08-13T18:24:54.744418Z",
     "start_time": "2025-08-13T18:24:54.740055Z"
    }
   },
   "outputs": [
    {
     "data": {
      "text/plain": [
       "50426.33559741082"
      ]
     },
     "execution_count": 14,
     "metadata": {},
     "output_type": "execute_result"
    }
   ],
   "source": [
    "test_size2 = control_size2/3\n",
    "test_size2"
   ]
  },
  {
   "cell_type": "code",
   "execution_count": 15,
   "id": "772ec618",
   "metadata": {
    "ExecuteTime": {
     "end_time": "2025-08-13T18:25:20.054154Z",
     "start_time": "2025-08-13T18:25:20.050017Z"
    }
   },
   "outputs": [
    {
     "name": "stdout",
     "output_type": "stream",
     "text": [
      "Округляем отдельно test и control, подставляем mean, var c округлением: 201707\n"
     ]
    }
   ],
   "source": [
    "print(f\"Округляем отдельно test и control, подставляем mean, var c округлением: {math.ceil(control_size2) + math.ceil(test_size2)}\")\n"
   ]
  },
  {
   "cell_type": "code",
   "execution_count": 16,
   "id": "5e9fcd96",
   "metadata": {
    "ExecuteTime": {
     "end_time": "2025-08-13T18:26:18.362572Z",
     "start_time": "2025-08-13T18:26:18.358846Z"
    }
   },
   "outputs": [
    {
     "name": "stdout",
     "output_type": "stream",
     "text": [
      "Округляем отдельно test и control, подставляем mean, var c округлением: 201706\n"
     ]
    }
   ],
   "source": [
    "print(f\"Округляем отдельно test и control, подставляем mean, var c округлением: {math.ceil(control_size2 + test_size2)}\")"
   ]
  },
  {
   "cell_type": "markdown",
   "id": "205e5b60",
   "metadata": {},
   "source": [
    "# O.  T-test\n",
    "\n",
    "\n",
    "Вам даны данные следующего формата: для каждого события зафиксирован идентификатор пользователя (user_id), сумма транзакции (gmv), группа эксперимента (group_name). \n",
    "\n",
    "Сагрегируйте данные до пользователя (тип агрегации: сумма). Мы проверяем гипотезу равенства средних поюзерных gmv. \n",
    "\n",
    "Посчитайте T-статистику. Найдите P-value, используя T-test. \n",
    "\n",
    "Используйте данные из файла\n",
    "[synthetic_gmv_data_1.2.csv](https://github.com/dakhakimova/ABweek/blob/fd05a411d06879cf359b60fc20906dcc1f130e3a/synthetic_gmv_data_1.2.csv)\n",
    "\n",
    "В качестве ответа введите значение, округлённое до 3-го знака после точки.\n",
    "\n",
    "NB! Здесь и далее, если вы будете использовать встроенную функцию stats.ttest_ind, не забудьте добавить параметр equal_var=False. Эта функция использует поправки Уэлча на степени свободы, когда мы считаем \"руками\", то обычно используем упрощенную формулу для степеней свободы m + n - 2 (количество уников теста + количество уников контроля - 2). Поэтому ответы могут немного различаться. Оба варианта будут считаться верными.\n",
    "\n",
    "### Ответ на задачу O \n",
    "\n",
    "T-статистика: 2.360\n",
    "\n",
    "P-value: 0.018\n",
    "\n",
    "### Комментарий: \n",
    "!Важно! Cначала был загружен неверный файл на GIT, с ним результаты этой и следующих трех задач неинтересные, но результаты все равно принимаются. Несмотря на то, что файл был перезалит, если обращаться к нему по ссылке, то получаем опять исходный плохой файл, если скачивать напрямую, то получаем нормальный файл.\n",
    "\n",
    "### Решение задачи O\n",
    "\n"
   ]
  },
  {
   "cell_type": "code",
   "execution_count": 67,
   "id": "e2ce6dc4",
   "metadata": {
    "ExecuteTime": {
     "end_time": "2025-08-13T18:37:43.334079Z",
     "start_time": "2025-08-13T18:37:41.449216Z"
    }
   },
   "outputs": [
    {
     "data": {
      "text/html": [
       "<div>\n",
       "<style scoped>\n",
       "    .dataframe tbody tr th:only-of-type {\n",
       "        vertical-align: middle;\n",
       "    }\n",
       "\n",
       "    .dataframe tbody tr th {\n",
       "        vertical-align: top;\n",
       "    }\n",
       "\n",
       "    .dataframe thead th {\n",
       "        text-align: right;\n",
       "    }\n",
       "</style>\n",
       "<table border=\"1\" class=\"dataframe\">\n",
       "  <thead>\n",
       "    <tr style=\"text-align: right;\">\n",
       "      <th></th>\n",
       "      <th>user_id</th>\n",
       "      <th>gmv</th>\n",
       "      <th>group_name</th>\n",
       "    </tr>\n",
       "  </thead>\n",
       "  <tbody>\n",
       "    <tr>\n",
       "      <th>0</th>\n",
       "      <td>igntaylf26</td>\n",
       "      <td>276</td>\n",
       "      <td>test</td>\n",
       "    </tr>\n",
       "    <tr>\n",
       "      <th>1</th>\n",
       "      <td>igntaylf26</td>\n",
       "      <td>346</td>\n",
       "      <td>test</td>\n",
       "    </tr>\n",
       "    <tr>\n",
       "      <th>2</th>\n",
       "      <td>igntaylf26</td>\n",
       "      <td>380</td>\n",
       "      <td>test</td>\n",
       "    </tr>\n",
       "    <tr>\n",
       "      <th>3</th>\n",
       "      <td>igntaylf26</td>\n",
       "      <td>311</td>\n",
       "      <td>test</td>\n",
       "    </tr>\n",
       "    <tr>\n",
       "      <th>4</th>\n",
       "      <td>7xmq4flqui</td>\n",
       "      <td>1390</td>\n",
       "      <td>test</td>\n",
       "    </tr>\n",
       "  </tbody>\n",
       "</table>\n",
       "</div>"
      ],
      "text/plain": [
       "      user_id   gmv group_name\n",
       "0  igntaylf26   276       test\n",
       "1  igntaylf26   346       test\n",
       "2  igntaylf26   380       test\n",
       "3  igntaylf26   311       test\n",
       "4  7xmq4flqui  1390       test"
      ]
     },
     "execution_count": 67,
     "metadata": {},
     "output_type": "execute_result"
    }
   ],
   "source": [
    "url2 = \"https://raw.githubusercontent.com/dakhakimova/YSDA_ABweek/fd05a411d06879cf359b60fc20906dcc1f130e3a/synthetic_gmv_data_1.2.csv\"\n",
    "\n",
    "    \n",
    "# Загружаем данные\n",
    "df2_bad_file = pd.read_csv(url2)\n",
    "df2_bad_file.head()"
   ]
  },
  {
   "cell_type": "code",
   "execution_count": 68,
   "id": "866a5233",
   "metadata": {},
   "outputs": [
    {
     "data": {
      "text/html": [
       "<div>\n",
       "<style scoped>\n",
       "    .dataframe tbody tr th:only-of-type {\n",
       "        vertical-align: middle;\n",
       "    }\n",
       "\n",
       "    .dataframe tbody tr th {\n",
       "        vertical-align: top;\n",
       "    }\n",
       "\n",
       "    .dataframe thead th {\n",
       "        text-align: right;\n",
       "    }\n",
       "</style>\n",
       "<table border=\"1\" class=\"dataframe\">\n",
       "  <thead>\n",
       "    <tr style=\"text-align: right;\">\n",
       "      <th></th>\n",
       "      <th>user_id</th>\n",
       "      <th>gmv</th>\n",
       "      <th>group_name</th>\n",
       "    </tr>\n",
       "  </thead>\n",
       "  <tbody>\n",
       "    <tr>\n",
       "      <th>0</th>\n",
       "      <td>myo4ixol31</td>\n",
       "      <td>1428</td>\n",
       "      <td>test</td>\n",
       "    </tr>\n",
       "    <tr>\n",
       "      <th>1</th>\n",
       "      <td>myo4ixol31</td>\n",
       "      <td>1428</td>\n",
       "      <td>test</td>\n",
       "    </tr>\n",
       "    <tr>\n",
       "      <th>2</th>\n",
       "      <td>myo4ixol31</td>\n",
       "      <td>1071</td>\n",
       "      <td>test</td>\n",
       "    </tr>\n",
       "    <tr>\n",
       "      <th>3</th>\n",
       "      <td>myo4ixol31</td>\n",
       "      <td>1071</td>\n",
       "      <td>test</td>\n",
       "    </tr>\n",
       "    <tr>\n",
       "      <th>4</th>\n",
       "      <td>pkzf2889ww</td>\n",
       "      <td>351</td>\n",
       "      <td>test</td>\n",
       "    </tr>\n",
       "  </tbody>\n",
       "</table>\n",
       "</div>"
      ],
      "text/plain": [
       "      user_id   gmv group_name\n",
       "0  myo4ixol31  1428       test\n",
       "1  myo4ixol31  1428       test\n",
       "2  myo4ixol31  1071       test\n",
       "3  myo4ixol31  1071       test\n",
       "4  pkzf2889ww   351       test"
      ]
     },
     "execution_count": 68,
     "metadata": {},
     "output_type": "execute_result"
    }
   ],
   "source": [
    "df2_good_file = pd.read_csv('synthetic_gmv_data_1.2.csv') \n",
    "df2_good_file.head()"
   ]
  },
  {
   "cell_type": "code",
   "execution_count": null,
   "id": "04f6850d",
   "metadata": {
    "ExecuteTime": {
     "end_time": "2025-08-13T18:37:46.847629Z",
     "start_time": "2025-08-13T18:37:46.350941Z"
    }
   },
   "outputs": [],
   "source": [
    "#решения далее будут приведены для \"хорошего файла\", для плохого pvalue везде будут равны 0\n",
    "df2_agg = df2_good_file.groupby(['user_id', 'group_name'])['gmv'].sum().reset_index()\n",
    "\n",
    "test = df2_agg[df2_agg['group_name'] == 'test']['gmv']\n",
    "control = df2_agg[df2_agg['group_name'] == 'control']['gmv']\n"
   ]
  },
  {
   "cell_type": "code",
   "execution_count": 70,
   "id": "0c1d4a53",
   "metadata": {
    "ExecuteTime": {
     "end_time": "2025-08-13T18:37:47.644816Z",
     "start_time": "2025-08-13T18:37:47.638536Z"
    }
   },
   "outputs": [
    {
     "data": {
      "text/plain": [
       "TtestResult(statistic=2.360412342662625, pvalue=0.01825692218030775, df=83331.4806976204)"
      ]
     },
     "execution_count": 70,
     "metadata": {},
     "output_type": "execute_result"
    }
   ],
   "source": [
    "stats.ttest_ind(test, control, equal_var=False)"
   ]
  },
  {
   "cell_type": "markdown",
   "id": "76be99c5",
   "metadata": {},
   "source": [
    "если вы используете встроенную функцию `stats.ttest_ind(test, control, equal_var=False)`, то \n",
    "\n",
    "cтепени свободы встроенной функции $df \\approx \\dfrac{ \\left( \\dfrac{s_с^2}{m} + \\dfrac{s_t^2}{n} \\right)^2 }{ \\dfrac{\\left(\\dfrac{s_c^2}{m}\\right)^2}{m-1} + \\dfrac{\\left(\\dfrac{s_t^2}{n}\\right)^2}{n-1} }$\n",
    "\n",
    "обычно, когда мы считаем  t-статистику вручную, используем упрощенную формулу n+m-2"
   ]
  },
  {
   "cell_type": "code",
   "execution_count": 71,
   "id": "d6e810c0",
   "metadata": {
    "ExecuteTime": {
     "end_time": "2025-08-13T18:35:51.795164Z",
     "start_time": "2025-08-13T18:35:51.784541Z"
    }
   },
   "outputs": [
    {
     "name": "stdout",
     "output_type": "stream",
     "text": [
      "Первый метод:\n",
      "T-статистика: 2.36\n",
      "P-value: 0.018\n",
      "Второй метод (встроенная функция, разные дисперсии):\n",
      "T-статистика: 2.36\n",
      "P-value: 0.018\n"
     ]
    }
   ],
   "source": [
    "#считаем ручками\n",
    "def ttest(test, control):\n",
    "    test_var = np.var(test, ddof=1)\n",
    "    control_var = np.var(control, ddof=1)\n",
    "    test_mu = np.mean(test)\n",
    "    control_mu = np.mean(control)\n",
    "    n = len(test)\n",
    "    m = len(control)\n",
    "    sigma = np.sqrt(test_var/n + control_var/m)\n",
    "    t_statistic = (test_mu - control_mu)/sigma\n",
    "    p_value = 2*stats.t.sf(np.abs(t_statistic),n+m-2)\n",
    "    return t_statistic, p_value\n",
    "\n",
    "t_statistic1, p_value1 = ttest(test, control)\n",
    "#считаем встроенной функцией (по-другому, будут считаться степени свободы)\n",
    "t_statistic2, p_value2 = stats.ttest_ind(test, control, equal_var=False)\n",
    "\n",
    "\n",
    "print('Первый метод:')\n",
    "print(f\"T-статистика: {round(t_statistic1,3)}\")\n",
    "print(f\"P-value: {round(p_value1, 3)}\")\n",
    "\n",
    "print('Второй метод (встроенная функция, разные дисперсии):')\n",
    "print(f\"T-статистика: {round(t_statistic2,3)}\")\n",
    "print(f\"P-value: {round(p_value2, 3)}\")\n",
    "\n"
   ]
  },
  {
   "cell_type": "markdown",
   "id": "cdde1fe6",
   "metadata": {},
   "source": [
    "# P.  Дельта-метод \n",
    "\n",
    "На тех же данных теперь проверим гипотезу равенства среднего чека. Оцените дисперсию, используя Дельта-метод. \n",
    "\n",
    "Посчитайте T-статистику, найдите P-value. \n",
    "\n",
    "Используте распределение Стьюдента (вместо нормального), для степеней свободы используйте упрощенную формулу: n + m - 2 (количество уников теста + количество уников контроля - 2)\n",
    "\n",
    "Используйте данные из файла\n",
    "[synthetic_gmv_data_1.2.csv](https://github.com/dakhakimova/ABweek/blob/fd05a411d06879cf359b60fc20906dcc1f130e3a/synthetic_gmv_data_1.2.csv)\n",
    "\n",
    "В качестве ответа введите значение, округлённое до 3-го знака после точки.\n",
    "\n",
    "### Ответ на задачу P: \n",
    "\n",
    "T-статистика: 2.344\n",
    "\n",
    "P-value: 0.019\n",
    "\n",
    "### Решение задачи P"
   ]
  },
  {
   "cell_type": "code",
   "execution_count": 27,
   "id": "23752986",
   "metadata": {
    "ExecuteTime": {
     "end_time": "2025-07-24T22:01:37.525657Z",
     "start_time": "2025-07-24T22:01:37.520407Z"
    }
   },
   "outputs": [],
   "source": [
    "def safe_divide(x, y):\n",
    "    try:\n",
    "        return x / y\n",
    "    except ZeroDivisionError:\n",
    "        return np.nan\n",
    "    \n",
    "def delta_var(numerator, denominator):\n",
    "    \"\"\"\n",
    "    Функция для расчета дисперсии дельта-методом, numerator - вектор числитель, denominator - вектор знаменатель\n",
    "    \"\"\"\n",
    "    x = numerator\n",
    "    y = denominator\n",
    "    n = len(x)\n",
    "    mu_x = np.mean(x)\n",
    "    mu_y = np.mean(y)\n",
    "    var_x = np.var(x, ddof=1)\n",
    "    var_y = np.var(y, ddof=1)\n",
    "    cov_xy = np.cov(x, y, ddof=1)[0][1]    \n",
    "    delta_var = safe_divide(safe_divide(var_x,mu_y**2)  - 2*cov_xy*safe_divide(mu_x,mu_y**3) + var_y*safe_divide(mu_x**2,mu_y**4), n)\n",
    "    return delta_var\n"
   ]
  },
  {
   "cell_type": "code",
   "execution_count": 32,
   "id": "c25b24cd",
   "metadata": {
    "ExecuteTime": {
     "end_time": "2025-07-24T22:01:54.775117Z",
     "start_time": "2025-07-24T22:01:53.990424Z"
    }
   },
   "outputs": [
    {
     "name": "stdout",
     "output_type": "stream",
     "text": [
      "T-статистика: 2.344\n",
      "P-value: 0.019\n"
     ]
    }
   ],
   "source": [
    "df3 = pd.read_csv('synthetic_gmv_data_1.2.csv') \n",
    "\n",
    "df3_agg = df3.groupby(['user_id', 'group_name']).agg(\n",
    "    gmv=('gmv', 'sum'),\n",
    "    cnt=('gmv', 'count')\n",
    ").reset_index()\n",
    "\n",
    "\n",
    "test_num = df3_agg[df3_agg['group_name'] == 'test']['gmv'] \n",
    "test_denom = df3_agg[df3_agg['group_name'] == 'test']['cnt']\n",
    "control_num = df3_agg[df3_agg['group_name'] == 'control']['gmv']\n",
    "control_denom = df3_agg[df3_agg['group_name'] == 'control']['cnt']\n",
    "n = len(test_num)\n",
    "m = len(control_num)\n",
    "test_var = delta_var(test_num, test_denom)\n",
    "control_var = delta_var(control_num, control_denom)\n",
    "sigma = np.sqrt(test_var + control_var)\n",
    "delta_estimator = np.mean(test_num)/np.mean(test_denom) - np.mean(control_num)/np.mean(control_denom)\n",
    "t_statistic = delta_estimator/sigma\n",
    "p_value = 2*stats.t.sf(np.abs(t_statistic),n+m-2)\n",
    "print(f\"T-статистика: {round(t_statistic, 3)}\")\n",
    "print(f\"P-value: {round(p_value, 3)}\")"
   ]
  },
  {
   "cell_type": "code",
   "execution_count": null,
   "id": "d4d799b8",
   "metadata": {
    "ExecuteTime": {
     "end_time": "2025-07-24T22:02:01.750378Z",
     "start_time": "2025-07-24T22:02:01.744441Z"
    }
   },
   "outputs": [
    {
     "name": "stdout",
     "output_type": "stream",
     "text": [
      "P-value: 0.019\n"
     ]
    }
   ],
   "source": [
    "#если заменить распределение Стьюдента на нормальное, то получается такой же результат\n",
    "p_value2 = 2 * stats.norm.sf(np.abs(t_statistic))\n",
    "print(f\"P-value: {round(p_value2, 3)}\")"
   ]
  },
  {
   "cell_type": "markdown",
   "id": "80233694",
   "metadata": {},
   "source": [
    "## Q.  Линеаризация второго типа\n",
    "\n",
    "На тех же данных теперь проверим гипотезу равенства среднего чека с использованием линеаризации второго типа и классический t-test:\n",
    "\n",
    "$L(u) = \\dfrac{\\bar X}{\\bar Y} + \\dfrac{1}{\\bar Y} X(u) - \\dfrac{\\bar X}{\\bar Y^2} Y(u)$, где \n",
    "\n",
    "$X(u)$ - значение числителя для пользователя $u$\n",
    "\n",
    "$Y(u)$ - значение знаменателя для пользователя $u$\n",
    "\n",
    "$\\bar X$ - среднее в группе по числителю \n",
    "\n",
    "$\\bar Y$ - среднее в группе по знаменателю\n",
    "\n",
    "Посчитайте T-статистику, найдите P-value для линеаризованной метрики. \n",
    "\n",
    "Используйте данные из файла\n",
    "[synthetic_gmv_data_1.2.csv](https://github.com/dakhakimova/ABweek/blob/fd05a411d06879cf359b60fc20906dcc1f130e3a/synthetic_gmv_data_1.2.csv)\n",
    "\n",
    "В качестве ответа введите значение, округлённое до 3-го знака после точки.\n",
    "\n",
    "### Ответ на задачу Q\n",
    "\n",
    "T-статистика: 2.344 \n",
    "\n",
    "P-value: 0.019 \n",
    "\n",
    "### Решение задачи Q"
   ]
  },
  {
   "cell_type": "code",
   "execution_count": null,
   "id": "76da6320",
   "metadata": {
    "ExecuteTime": {
     "end_time": "2025-07-24T22:02:06.315671Z",
     "start_time": "2025-07-24T22:02:06.308385Z"
    }
   },
   "outputs": [],
   "source": [
    "def linearization_type_2(test_num, test_denom, control_num, control_denom):\n",
    "    n = len(test_num)\n",
    "    m = len(control_num)\n",
    "    test_num_bar = np.mean(test_num)\n",
    "    control_num_bar = np.mean(control_num)\n",
    "    test_denom_bar = np.mean(test_denom)\n",
    "    control_denom_bar = np.mean(control_denom)\n",
    "    test_estimator = safe_divide(test_num_bar, test_denom_bar)\n",
    "    control_estimator = safe_divide(control_num_bar, control_denom_bar)\n",
    "    delta_estimator = test_estimator - control_estimator\n",
    "    test_linear = test_estimator  + safe_divide(1, test_denom_bar)*(np.array(test_num) - test_estimator*np.array(test_denom))\n",
    "    control_linear = control_estimator  + safe_divide(1, control_denom_bar)*(np.array(control_num) - control_estimator*np.array(control_denom))\n",
    "    return  test_linear, control_linear"
   ]
  },
  {
   "cell_type": "code",
   "execution_count": 36,
   "id": "20144554",
   "metadata": {
    "ExecuteTime": {
     "end_time": "2025-07-25T10:25:34.788531Z",
     "start_time": "2025-07-25T10:25:34.024089Z"
    }
   },
   "outputs": [],
   "source": [
    "df4 = pd.read_csv('synthetic_gmv_data_1.2.csv') \n",
    "\n",
    "df4_agg = df4.groupby(['user_id', 'group_name']).agg(\n",
    "    gmv=('gmv', 'sum'),\n",
    "    cnt=('gmv', 'count')\n",
    ").reset_index()\n",
    "\n",
    "\n",
    "test_num = df4_agg[df4_agg['group_name'] == 'test']['gmv'] \n",
    "test_denom = df4_agg[df4_agg['group_name'] == 'test']['cnt']\n",
    "control_num = df4_agg[df4_agg['group_name'] == 'control']['gmv']\n",
    "control_denom = df4_agg[df4_agg['group_name'] == 'control']['cnt']"
   ]
  },
  {
   "cell_type": "code",
   "execution_count": 39,
   "id": "fbd6d84e",
   "metadata": {
    "ExecuteTime": {
     "end_time": "2025-07-25T10:25:36.034577Z",
     "start_time": "2025-07-25T10:25:36.022240Z"
    }
   },
   "outputs": [
    {
     "name": "stdout",
     "output_type": "stream",
     "text": [
      "Первый метод:\n",
      "T-статистика: 2.344\n",
      "P-value: 0.019\n",
      "Второй метод (встроенная функция, разные дисперсии):\n",
      "T-статистика: 2.344\n",
      "P-value: 0.019\n"
     ]
    }
   ],
   "source": [
    "test_linear, control_linear = linearization_type_2(test_num, test_denom, control_num, control_denom)\n",
    "t_statistic1, p_value1 = ttest(test_linear, control_linear)\n",
    "\n",
    "t_statistic2, p_value2 = stats.ttest_ind(test_linear, control_linear, equal_var=False)\n",
    "\n",
    "\n",
    "print('Первый метод:')\n",
    "print(f\"T-статистика: {round(t_statistic1,3)}\")\n",
    "print(f\"P-value: {round(p_value1,3)}\")\n",
    "\n",
    "print('Второй метод (встроенная функция, разные дисперсии):')\n",
    "print(f\"T-статистика: {round(t_statistic2,3)}\")\n",
    "print(f\"P-value: {round(p_value2,3)}\")\n",
    "\n",
    "    "
   ]
  },
  {
   "cell_type": "code",
   "execution_count": null,
   "id": "ce9c8f8f",
   "metadata": {},
   "outputs": [
    {
     "name": "stdout",
     "output_type": "stream",
     "text": [
      "P-value: 0.019\n"
     ]
    }
   ],
   "source": [
    "#если заменить распределение Стьюдента на нормальное, то получается такой же результат\n",
    "p_value2 = 2 * stats.norm.sf(np.abs(t_statistic1))\n",
    "print(f\"P-value: {round(p_value2, 3)}\")"
   ]
  },
  {
   "cell_type": "markdown",
   "id": "e4ae5801",
   "metadata": {},
   "source": [
    "# R.  Доверительные интервалы\n",
    "На тех же данных постройте доверительные интервалы для\n",
    "\n",
    "Δ gmv - разницы средних gmv\n",
    "\n",
    "Δ gmv, % - процентного изменения средних gmv\n",
    "\n",
    "Δ aov - разницы средних чеков\n",
    "\n",
    "Δ aov, % - процентного изменения средних чеков\n",
    "\n",
    "Везде используте распределение Стьюдента (вместо нормального), для степеней свободы используйте упрощенную формулу: n + m - 2 (количество уников теста + количество уников контроля - 2)\n",
    "\n",
    "Используйте данные из файла\n",
    "[synthetic_gmv_data_1.2.csv](https://github.com/dakhakimova/ABweek/blob/fd05a411d06879cf359b60fc20906dcc1f130e3a/synthetic_gmv_data_1.2.csv)\n",
    "\n",
    "В качестве ответа введите значения, округлённое до 3-го знака после точки.\n",
    "\n",
    "### Ответ на задачу R\n",
    "\n",
    "Δ gmv: [3.975, 42.891] или [3.976, 42.891]\n",
    "\n",
    "Δ gmv, %: [0.138, 1.508]\n",
    "\n",
    "Δ aov: [0.652, 7.313] \n",
    "\n",
    "Δ aov, %: [0.092, 1.045]\n",
    "\n",
    "\n",
    "### Решение задачи R"
   ]
  },
  {
   "cell_type": "code",
   "execution_count": 41,
   "id": "b59d39e7",
   "metadata": {
    "ExecuteTime": {
     "end_time": "2025-07-25T10:25:41.192896Z",
     "start_time": "2025-07-25T10:25:41.117130Z"
    }
   },
   "outputs": [],
   "source": [
    "x_num = df4_agg[df4_agg['group_name'] == 'test']['gmv'] \n",
    "x_denom = df4_agg[df4_agg['group_name'] == 'test']['cnt']\n",
    "y_num = df4_agg[df4_agg['group_name'] == 'control']['gmv']\n",
    "y_denom = df4_agg[df4_agg['group_name'] == 'control']['cnt']"
   ]
  },
  {
   "cell_type": "code",
   "execution_count": 53,
   "id": "0da2530d",
   "metadata": {
    "ExecuteTime": {
     "end_time": "2025-07-25T10:36:01.838859Z",
     "start_time": "2025-07-25T10:36:01.818606Z"
    }
   },
   "outputs": [],
   "source": [
    "def moe_t(sigma, n, m, alpha = 0.05):\n",
    "    return sigma*stats.t.ppf(1-alpha/2,n+m-2)\n",
    "\n",
    "def moe_n(sigma, n, m, alpha = 0.05):\n",
    "    return sigma*stats.norm.ppf(1 - alpha / 2)\n",
    "\n",
    "def safe_divide(x, y):\n",
    "    try:\n",
    "        return x / y\n",
    "    except ZeroDivisionError:\n",
    "        return np.nan\n",
    "\n",
    "def delta_var(numerator, denominator):\n",
    "    \"\"\"\n",
    "    Функция для расчета дисперсии дельта-методом, numerator - вектор числитель, denominator - вектор знаменатель\n",
    "    \"\"\"\n",
    "    x = numerator\n",
    "    y = denominator\n",
    "    n = len(x)\n",
    "    mu_x = np.mean(x)\n",
    "    mu_y = np.mean(y)\n",
    "    var_x = np.var(x, ddof=1)\n",
    "    var_y = np.var(y, ddof=1)\n",
    "    cov_xy = np.cov(x, y, ddof=1)[0][1]    \n",
    "    delta_var = safe_divide(safe_divide(var_x,mu_y**2)  - 2*cov_xy*safe_divide(mu_x,mu_y**3) + var_y*safe_divide(mu_x**2,mu_y**4), n)\n",
    "    return delta_var\n",
    "\n",
    "def delta_value(x_num, y_num, dist = 't'):\n",
    "    x = x_num\n",
    "    y = y_num\n",
    "    n = len(x)\n",
    "    m = len(y)\n",
    "    var_x = np.var(x, ddof=1)\n",
    "    var_y = np.var(y, ddof=1)\n",
    "    mu_x = np.mean(x)\n",
    "    mu_y = np.mean(y)\n",
    "    estimator = mu_x - mu_y\n",
    "    sigma = np.sqrt(var_x/n + var_y/m)\n",
    "    if dist == 't':\n",
    "        moe = moe_t(sigma, n, m)\n",
    "    else:\n",
    "        moe = moe_n(sigma, n, m)\n",
    "    return  estimator - moe, estimator + moe\n",
    "\n",
    "def delta_ratio(x_num, x_denom, y_num, y_denom, dist = 't'):\n",
    "    n = len(x_num)\n",
    "    m = len(y_num)\n",
    "    test_var = delta_var(x_num, x_denom)\n",
    "    control_var = delta_var(y_num, y_denom)\n",
    "    sigma = np.sqrt(test_var + control_var)\n",
    "    delta_estimator = safe_divide(np.mean(x_num), np.mean(x_denom)) - safe_divide(np.mean(y_num), np.mean(y_denom))\n",
    "    if dist == 't':\n",
    "        moe = moe_t(sigma, n, m)\n",
    "    else:\n",
    "        moe = moe_n(sigma, n, m)\n",
    "    return  delta_estimator - moe, delta_estimator + moe\n",
    "\n",
    "def uplift_value(x_num, y_num, dist = 't'):\n",
    "    n = len(x_num)\n",
    "    m = len(y_num)\n",
    "    var_x = np.var(x_num, ddof=1)\n",
    "    var_y = np.var(y_num, ddof=1)  \n",
    "    mu_x = np.mean(x_num)\n",
    "    mu_y = np.mean(y_num)\n",
    "    delta_var = safe_divide(var_x, n * mu_y**2)  + safe_divide(var_y*mu_x**2, m * mu_y**4)\n",
    "    sigma = np.sqrt(delta_var)\n",
    "    uplift_estimator = mu_x/mu_y - 1\n",
    "    if dist == 't':\n",
    "        moe = moe_t(sigma, n, m)\n",
    "    else:\n",
    "        moe = moe_n(sigma, n, m)\n",
    "    return  100*(uplift_estimator - moe), 100*(uplift_estimator + moe)\n",
    "\n",
    "def uplift_ratio(x_num, x_denom, y_num, y_denom, dist = 't'):\n",
    "    n = len(x_num)\n",
    "    m = len(y_num)\n",
    "    test_var = delta_var(x_num, x_denom)\n",
    "    control_var = delta_var(y_num, y_denom)\n",
    "    test_estimator = safe_divide(np.mean(x_num), np.mean(x_denom))\n",
    "    control_estimator = safe_divide(np.mean(y_num), np.mean(y_denom))\n",
    "    sigma = np.sqrt(test_var/control_estimator**2 + control_var*test_estimator**2/control_estimator**4)\n",
    "    delta_estimator = test_estimator/control_estimator - 1\n",
    "    if dist == 't':\n",
    "        moe = moe_t(sigma, n, m)\n",
    "    else:\n",
    "        moe = moe_n(sigma, n, m)\n",
    "    return  100*(delta_estimator - moe), 100*(delta_estimator + moe)\n",
    "\n",
    "#если не применять преобразование 1/X \n",
    "def uplift_ratio_ac(x_num, x_denom, y_num, y_denom, dist = 't'):\n",
    "    n = len(x_num)\n",
    "    m = len(y_num)\n",
    "    test_var = delta_var(x_num, x_denom)\n",
    "    control_var_rev = delta_var(y_denom,y_num)\n",
    "    test_estimator = safe_divide(np.mean(x_num), np.mean(x_denom))\n",
    "    control_estimator = safe_divide(np.mean(y_num), np.mean(y_denom))\n",
    "    sigma = np.sqrt(test_var/control_estimator**2 + control_var_rev*test_estimator**2)\n",
    "    delta_estimator = test_estimator/control_estimator - 1\n",
    "    if dist == 't':\n",
    "        moe = moe_t(sigma, n, m)\n",
    "    else:\n",
    "        moe = moe_n(sigma, n, m)\n",
    "    return  100*(delta_estimator - moe), 100*(delta_estimator + moe)"
   ]
  },
  {
   "cell_type": "markdown",
   "id": "f89fc1e6",
   "metadata": {},
   "source": [
    "\n",
    "Δ gmv: [3.975, 42.891] или [3.976, 42.891]\n",
    "\n",
    "Δ gmv, %: [0.138, 1.508]\n",
    "\n",
    "Δ aov: [0.652, 7.313] \n",
    "\n",
    "Δ aov, %: [0.092, 1.045]"
   ]
  },
  {
   "cell_type": "code",
   "execution_count": 46,
   "id": "1ac78854",
   "metadata": {
    "ExecuteTime": {
     "end_time": "2025-07-25T10:36:03.910167Z",
     "start_time": "2025-07-25T10:36:03.902346Z"
    }
   },
   "outputs": [
    {
     "name": "stdout",
     "output_type": "stream",
     "text": [
      "Δ gmv распределение Стьюдента: [3.975, 42.891]\n"
     ]
    }
   ],
   "source": [
    "left_gmv, right_gmv = delta_value(x_num, y_num, dist = 't')\n",
    "\n",
    "print(f'Δ gmv распределение Стьюдента: [{round(left_gmv, 3)}, {round(right_gmv,3)}]')"
   ]
  },
  {
   "cell_type": "code",
   "execution_count": 47,
   "id": "17a09b87",
   "metadata": {},
   "outputs": [
    {
     "name": "stdout",
     "output_type": "stream",
     "text": [
      "Δ gmv нормальное распределение: [3.976, 42.891]\n"
     ]
    }
   ],
   "source": [
    "left_gmv, right_gmv = delta_value(x_num, y_num, dist = 'n')\n",
    "\n",
    "print(f'Δ gmv нормальное распределение: [{round(left_gmv, 3)}, {round(right_gmv,3)}]')"
   ]
  },
  {
   "cell_type": "code",
   "execution_count": 48,
   "id": "b117f34c",
   "metadata": {
    "ExecuteTime": {
     "end_time": "2025-07-25T10:36:04.454905Z",
     "start_time": "2025-07-25T10:36:04.447228Z"
    }
   },
   "outputs": [
    {
     "name": "stdout",
     "output_type": "stream",
     "text": [
      "Δ gmv, % распределение Стьюдента: [0.138, 1.508]\n"
     ]
    }
   ],
   "source": [
    "left_gmv, right_gmv = uplift_value(x_num, y_num, dist = 't')\n",
    "\n",
    "print(f'Δ gmv, % распределение Стьюдента: [{round(left_gmv, 3)}, {round(right_gmv,3)}]')"
   ]
  },
  {
   "cell_type": "code",
   "execution_count": 49,
   "id": "146dc219",
   "metadata": {},
   "outputs": [
    {
     "name": "stdout",
     "output_type": "stream",
     "text": [
      "Δ gmv, % нормальное распределение: [0.138, 1.508]\n"
     ]
    }
   ],
   "source": [
    "left_gmv, right_gmv = uplift_value(x_num, y_num, dist = 'n')\n",
    "\n",
    "print(f'Δ gmv, % нормальное распределение: [{round(left_gmv, 3)}, {round(right_gmv,3)}]')"
   ]
  },
  {
   "cell_type": "code",
   "execution_count": 50,
   "id": "faf3fbc7",
   "metadata": {
    "ExecuteTime": {
     "end_time": "2025-07-25T10:36:05.290826Z",
     "start_time": "2025-07-25T10:36:05.279326Z"
    }
   },
   "outputs": [
    {
     "name": "stdout",
     "output_type": "stream",
     "text": [
      "Δ aov распределение Стьюдента: [0.652, 7.313]\n"
     ]
    }
   ],
   "source": [
    "left_aov, right_aov = delta_ratio(x_num, x_denom, y_num, y_denom, dist = 't')\n",
    "\n",
    "print(f'Δ aov распределение Стьюдента: [{round(left_aov, 3)}, {round(right_aov,3)}]')"
   ]
  },
  {
   "cell_type": "code",
   "execution_count": 51,
   "id": "a869618d",
   "metadata": {},
   "outputs": [
    {
     "name": "stdout",
     "output_type": "stream",
     "text": [
      "Δ aov нормальное распределение: [0.652, 7.313]\n"
     ]
    }
   ],
   "source": [
    "left_aov, right_aov = delta_ratio(x_num, x_denom, y_num, y_denom, dist = 'n')\n",
    "\n",
    "print(f'Δ aov нормальное распределение: [{round(left_aov, 3)}, {round(right_aov,3)}]')"
   ]
  },
  {
   "cell_type": "code",
   "execution_count": null,
   "id": "555acfc4",
   "metadata": {
    "ExecuteTime": {
     "end_time": "2025-07-25T10:36:08.764725Z",
     "start_time": "2025-07-25T10:36:08.753314Z"
    }
   },
   "outputs": [
    {
     "name": "stdout",
     "output_type": "stream",
     "text": [
      "Δ aov, %: [0.092, 1.045]\n"
     ]
    }
   ],
   "source": [
    "left_aov, right_aov = uplift_ratio(x_num, x_denom, y_num, y_denom, dist = 't')\n",
    "\n",
    "print(f'Δ aov, % распределение Стьюдента: [{round(left_aov, 3)}, {round(right_aov,3)}]')"
   ]
  },
  {
   "cell_type": "code",
   "execution_count": 55,
   "id": "5a68226f",
   "metadata": {},
   "outputs": [
    {
     "name": "stdout",
     "output_type": "stream",
     "text": [
      "Δ aov, % нормальное распределение: [0.092, 1.045]\n"
     ]
    }
   ],
   "source": [
    "left_aov, right_aov = uplift_ratio(x_num, x_denom, y_num, y_denom, dist = 'n')\n",
    "\n",
    "print(f'Δ aov, % нормальное распределение: [{round(left_aov, 3)}, {round(right_aov,3)}]')"
   ]
  },
  {
   "cell_type": "code",
   "execution_count": 56,
   "id": "dfcbc290",
   "metadata": {},
   "outputs": [
    {
     "name": "stdout",
     "output_type": "stream",
     "text": [
      "Δ aov, % распределение Стьюдента и без преобразования 1/X: [0.092, 1.045]\n"
     ]
    }
   ],
   "source": [
    "left_aov, right_aov = uplift_ratio_ac(x_num, x_denom, y_num, y_denom, dist = 't')\n",
    "\n",
    "print(f'Δ aov, % распределение Стьюдента и без преобразования 1/X: [{round(left_aov, 3)}, {round(right_aov,3)}]')"
   ]
  },
  {
   "cell_type": "code",
   "execution_count": 57,
   "id": "f7476369",
   "metadata": {},
   "outputs": [
    {
     "name": "stdout",
     "output_type": "stream",
     "text": [
      "Δ aov, % нормальное распределение  и без преобразования 1/X: [0.092, 1.045]\n"
     ]
    }
   ],
   "source": [
    "left_aov, right_aov = uplift_ratio_ac(x_num, x_denom, y_num, y_denom, dist = 'n')\n",
    "\n",
    "print(f'Δ aov, % нормальное распределение  и без преобразования 1/X: [{round(left_aov, 3)}, {round(right_aov,3)}]')"
   ]
  },
  {
   "cell_type": "markdown",
   "id": "c3754585",
   "metadata": {},
   "source": [
    "# S. CUPED\n",
    "Вам даны данные следующего формата: поюзерный исторический gmv (gmv_hist),  поюзерный gmv во время эксперимента (gmv_exp), распределение на тест и контроль (group_name)\n",
    "\n",
    "Посчитайте коэффициент $\\theta = \\dfrac{\\text{Cov}(X,Y)}{\\text{Var}X}$, используя все данные и теста, и контроля), где X - gmv_hist, Y - gmv_exp.\n",
    "\n",
    "Найдите Cuped значение метрики. \n",
    "\n",
    "Посчитайте P-value без применения CUPED, P-value c применением CUPED\n",
    "\n",
    "[synthetic_gmv_data_1.3.csv](https://github.com/dakhakimova/ABweek/blob/7cf50d953cda60865fabb1fa69fb86f387953870/synthetic_gmv_data_1.3.csv)\n",
    "\n",
    "\n",
    "В качестве ответа введите значения, округлённое до 3-го знака после точки.\n",
    "\n",
    "### Ответ на задачу S \n",
    "\n",
    "Без CUPED:\n",
    "\n",
    "P-value: 0.233\n",
    "\n",
    "C CUPED:\n",
    "\n",
    "P-value: 0.047\n",
    "\n",
    "\n",
    "### Решение задачи S\n",
    "\n"
   ]
  },
  {
   "cell_type": "code",
   "execution_count": 58,
   "id": "36907120",
   "metadata": {
    "ExecuteTime": {
     "end_time": "2025-07-24T19:46:50.028279Z",
     "start_time": "2025-07-24T19:46:49.948005Z"
    }
   },
   "outputs": [
    {
     "data": {
      "text/html": [
       "<div>\n",
       "<style scoped>\n",
       "    .dataframe tbody tr th:only-of-type {\n",
       "        vertical-align: middle;\n",
       "    }\n",
       "\n",
       "    .dataframe tbody tr th {\n",
       "        vertical-align: top;\n",
       "    }\n",
       "\n",
       "    .dataframe thead th {\n",
       "        text-align: right;\n",
       "    }\n",
       "</style>\n",
       "<table border=\"1\" class=\"dataframe\">\n",
       "  <thead>\n",
       "    <tr style=\"text-align: right;\">\n",
       "      <th></th>\n",
       "      <th>gmv_hist</th>\n",
       "      <th>gmv_exp</th>\n",
       "      <th>group_name</th>\n",
       "    </tr>\n",
       "  </thead>\n",
       "  <tbody>\n",
       "    <tr>\n",
       "      <th>0</th>\n",
       "      <td>200.78</td>\n",
       "      <td>123.19</td>\n",
       "      <td>test</td>\n",
       "    </tr>\n",
       "    <tr>\n",
       "      <th>1</th>\n",
       "      <td>363.80</td>\n",
       "      <td>134.49</td>\n",
       "      <td>control</td>\n",
       "    </tr>\n",
       "    <tr>\n",
       "      <th>2</th>\n",
       "      <td>39.93</td>\n",
       "      <td>116.72</td>\n",
       "      <td>control</td>\n",
       "    </tr>\n",
       "    <tr>\n",
       "      <th>3</th>\n",
       "      <td>150.99</td>\n",
       "      <td>177.67</td>\n",
       "      <td>control</td>\n",
       "    </tr>\n",
       "    <tr>\n",
       "      <th>4</th>\n",
       "      <td>208.93</td>\n",
       "      <td>65.30</td>\n",
       "      <td>test</td>\n",
       "    </tr>\n",
       "  </tbody>\n",
       "</table>\n",
       "</div>"
      ],
      "text/plain": [
       "   gmv_hist  gmv_exp group_name\n",
       "0    200.78   123.19       test\n",
       "1    363.80   134.49    control\n",
       "2     39.93   116.72    control\n",
       "3    150.99   177.67    control\n",
       "4    208.93    65.30       test"
      ]
     },
     "execution_count": 58,
     "metadata": {},
     "output_type": "execute_result"
    }
   ],
   "source": [
    "url3 = 'https://raw.githubusercontent.com/dakhakimova/YSDA_ABweek/7cf50d953cda60865fabb1fa69fb86f387953870/synthetic_gmv_data_1.3.csv'\n",
    "df_generated = pd.read_csv(url3) \n",
    "\n",
    "df_generated.head()"
   ]
  },
  {
   "cell_type": "code",
   "execution_count": 59,
   "id": "26f6ee52",
   "metadata": {
    "ExecuteTime": {
     "end_time": "2025-07-24T19:46:51.384010Z",
     "start_time": "2025-07-24T19:46:51.370146Z"
    }
   },
   "outputs": [],
   "source": [
    "X_pre = df_generated['gmv_hist']\n",
    "Y = df_generated['gmv_exp']\n",
    "theta = np.cov(Y, X_pre)[0, 1] / np.var(X_pre)\n",
    "\n",
    "df_generated['gmv_cuped'] = df_generated['gmv_exp'] - theta * df_generated['gmv_hist']"
   ]
  },
  {
   "cell_type": "code",
   "execution_count": 60,
   "id": "fb8ec48f",
   "metadata": {
    "ExecuteTime": {
     "end_time": "2025-07-24T19:46:52.270217Z",
     "start_time": "2025-07-24T19:46:52.222971Z"
    }
   },
   "outputs": [],
   "source": [
    "test = df_generated[df_generated['group_name'] == 'test']['gmv_exp']\n",
    "control = df_generated[df_generated['group_name'] == 'control']['gmv_exp']\n",
    "t_statistic1, p_value1 = stats.ttest_ind(test, control, equal_var=False)"
   ]
  },
  {
   "cell_type": "code",
   "execution_count": null,
   "id": "3637be4c",
   "metadata": {
    "ExecuteTime": {
     "end_time": "2025-07-24T19:46:52.918929Z",
     "start_time": "2025-07-24T19:46:52.872640Z"
    }
   },
   "outputs": [],
   "source": [
    "test = df_generated[df_generated['group_name'] == 'test']['gmv_cuped']\n",
    "control = df_generated[df_generated['group_name'] == 'control']['gmv_cuped']\n",
    "t_statistic2, p_value2 = stats.ttest_ind(test, control, equal_var=False)"
   ]
  },
  {
   "cell_type": "code",
   "execution_count": 63,
   "id": "839da2c9",
   "metadata": {
    "ExecuteTime": {
     "end_time": "2025-07-24T19:46:53.536483Z",
     "start_time": "2025-07-24T19:46:53.532481Z"
    }
   },
   "outputs": [
    {
     "name": "stdout",
     "output_type": "stream",
     "text": [
      "Без CUPED:\n",
      "T-статистика: 1.194\n",
      "P-value: 0.233\n",
      "C CUPED:\n",
      "T-статистика: 1.989\n",
      "P-value: 0.047\n"
     ]
    }
   ],
   "source": [
    "print('Без CUPED:')\n",
    "print(f\"T-статистика: {round(t_statistic1,3)}\")\n",
    "print(f\"P-value: {round(p_value1, 3)}\")\n",
    "\n",
    "print('C CUPED:')\n",
    "print(f\"T-статистика: {round(t_statistic2,3)}\")\n",
    "print(f\"P-value: {round(p_value2, 3)}\")"
   ]
  },
  {
   "cell_type": "code",
   "execution_count": null,
   "id": "29c37ac8",
   "metadata": {},
   "outputs": [],
   "source": [
    "#если посчитать вручную, то получатся такие же значения\n",
    "test = df_generated[df_generated['group_name'] == 'test']['gmv_exp']\n",
    "control = df_generated[df_generated['group_name'] == 'control']['gmv_exp']\n",
    "t_statistic1, p_value1 = ttest(test, control)\n",
    "\n",
    "test = df_generated[df_generated['group_name'] == 'test']['gmv_cuped']\n",
    "control = df_generated[df_generated['group_name'] == 'control']['gmv_cuped']\n",
    "t_statistic2, p_value2 = ttest(test, control)"
   ]
  },
  {
   "cell_type": "code",
   "execution_count": 66,
   "id": "3d8870c3",
   "metadata": {},
   "outputs": [
    {
     "name": "stdout",
     "output_type": "stream",
     "text": [
      "Без CUPED:\n",
      "T-статистика: 1.194\n",
      "P-value: 0.233\n",
      "C CUPED:\n",
      "T-статистика: 1.989\n",
      "P-value: 0.047\n"
     ]
    }
   ],
   "source": [
    "print('Без CUPED:')\n",
    "print(f\"T-статистика: {round(t_statistic1,3)}\")\n",
    "print(f\"P-value: {round(p_value1, 3)}\")\n",
    "\n",
    "print('C CUPED:')\n",
    "print(f\"T-статистика: {round(t_statistic2,3)}\")\n",
    "print(f\"P-value: {round(p_value2, 3)}\")"
   ]
  }
 ],
 "metadata": {
  "kernelspec": {
   "display_name": "Python 3",
   "language": "python",
   "name": "python3"
  },
  "language_info": {
   "codemirror_mode": {
    "name": "ipython",
    "version": 3
   },
   "file_extension": ".py",
   "mimetype": "text/x-python",
   "name": "python",
   "nbconvert_exporter": "python",
   "pygments_lexer": "ipython3",
   "version": "3.9.6"
  }
 },
 "nbformat": 4,
 "nbformat_minor": 5
}
