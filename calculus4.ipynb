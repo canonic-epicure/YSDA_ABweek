{
 "cells": [
  {
   "cell_type": "code",
   "id": "initial_id",
   "metadata": {
    "ExecuteTime": {
     "end_time": "2025-08-04T08:21:47.894433Z",
     "start_time": "2025-08-04T08:21:47.751406Z"
    }
   },
   "source": [
    "import pandas as pd\n",
    "import numpy as np\n",
    "import scipy.stats as stats\n",
    "\n",
    "data: pd.DataFrame = pd.read_csv('./synthetic_gmv_data_1.3.csv')\n",
    "\n",
    "theta = np.cov(data[ 'gmv_exp' ], data[ 'gmv_hist' ])[0, 1] / np.var(data[ 'gmv_hist' ])\n",
    "\n",
    "theta"
   ],
   "outputs": [
    {
     "data": {
      "text/plain": [
       "np.float64(0.5578904100707087)"
      ]
     },
     "execution_count": 9,
     "metadata": {},
     "output_type": "execute_result"
    }
   ],
   "execution_count": 9
  },
  {
   "metadata": {
    "ExecuteTime": {
     "end_time": "2025-08-04T08:22:05.512443Z",
     "start_time": "2025-08-04T08:22:05.417918Z"
    }
   },
   "cell_type": "code",
   "source": [
    "data['gmv_cuped'] = data[ 'gmv_exp' ] - theta * data[ 'gmv_hist' ]\n",
    "\n",
    "control = data[data['group_name'] == 'control']\n",
    "test = data[data['group_name'] == 'test']\n",
    "\n",
    "control, test"
   ],
   "id": "31590ace7a2b3ca3",
   "outputs": [
    {
     "data": {
      "text/plain": [
       "(        gmv_hist  gmv_exp group_name  gmv_cuped\n",
       " 1         363.80   134.49    control -68.470531\n",
       " 2          39.93   116.72    control  94.443436\n",
       " 3         150.99   177.67    control  93.434127\n",
       " 6         125.12   156.50    control  86.696752\n",
       " 11        110.56   159.40    control  97.719636\n",
       " ...          ...      ...        ...        ...\n",
       " 249987      8.37   103.17    control  98.500457\n",
       " 249989    113.69    41.41    control -22.016561\n",
       " 249990      5.11    77.93    control  75.079180\n",
       " 249991    150.68   128.05    control  43.987073\n",
       " 249999    286.28   201.19    control  41.477133\n",
       " \n",
       " [125162 rows x 4 columns],\n",
       "         gmv_hist  gmv_exp group_name   gmv_cuped\n",
       " 0         200.78   123.19       test   11.176763\n",
       " 4         208.93    65.30       test  -51.260043\n",
       " 5         132.68    96.43       test   22.409100\n",
       " 7          77.52    92.40       test   49.152335\n",
       " 8         191.29   179.60       test   72.881143\n",
       " ...          ...      ...        ...         ...\n",
       " 249994     33.83    14.48       test   -4.393433\n",
       " 249995    221.87    65.14       test  -58.639145\n",
       " 249996    307.51   183.22       test   11.663120\n",
       " 249997    283.07   309.94       test  152.017962\n",
       " 249998     76.17   121.67       test   79.175487\n",
       " \n",
       " [124838 rows x 4 columns])"
      ]
     },
     "execution_count": 10,
     "metadata": {},
     "output_type": "execute_result"
    }
   ],
   "execution_count": 10
  },
  {
   "metadata": {
    "ExecuteTime": {
     "end_time": "2025-08-04T08:22:57.406101Z",
     "start_time": "2025-08-04T08:22:57.386671Z"
    }
   },
   "cell_type": "code",
   "source": [
    "_, pvalue_tt = stats.ttest_ind(test['gmv_exp'], control['gmv_exp'], equal_var=False)\n",
    "\n",
    "round(pvalue_tt.item(), 3)"
   ],
   "id": "8343e1c6ab6d5bf7",
   "outputs": [
    {
     "data": {
      "text/plain": [
       "0.233"
      ]
     },
     "execution_count": 11,
     "metadata": {},
     "output_type": "execute_result"
    }
   ],
   "execution_count": 11
  },
  {
   "metadata": {
    "ExecuteTime": {
     "end_time": "2025-08-04T08:23:35.428727Z",
     "start_time": "2025-08-04T08:23:35.412910Z"
    }
   },
   "cell_type": "code",
   "source": [
    "_, pvalue_cuped = stats.ttest_ind(test['gmv_cuped'], control['gmv_cuped'], equal_var=False)\n",
    "\n",
    "round(pvalue_cuped.item(), 3)"
   ],
   "id": "48f292c9529f1f31",
   "outputs": [
    {
     "data": {
      "text/plain": [
       "0.047"
      ]
     },
     "execution_count": 13,
     "metadata": {},
     "output_type": "execute_result"
    }
   ],
   "execution_count": 13
  },
  {
   "metadata": {},
   "cell_type": "code",
   "outputs": [],
   "execution_count": null,
   "source": [
    "\n",
    "\n",
    "\n",
    "\n",
    "X_pre = np.random.normal(loc=10, scale=5, size=sample_size)\n",
    "# Группы: контроль и тест\n",
    "treatment = np.random.binomial(1, 0.5, size=sample_size)\n",
    "\n",
    "# Истинный эффект (только у теста)\n",
    "delta = 10 * effect\n",
    "\n",
    "# Y = X_pre * корелляционный коэффициент + шум + эффект\n",
    "cor = 0.6\n",
    "Y = cor * X_pre + np.random.normal(loc=0, scale=2, size=sample_size) + delta * treatment\n",
    "\n",
    "group_control = (treatment == 0)\n",
    "group_test = (treatment == 1)\n",
    "_, pvalue_tt = stats.ttest_ind(Y[group_test], Y[group_control], equal_var=False)\n",
    "\n",
    "theta = np.cov(Y, X_pre)[0, 1] / np.var(X_pre)\n",
    "Y_cuped = Y - theta * X_pre\n",
    "\n",
    "_, pvalue_cuped = stats.ttest_ind(Y_cuped[group_test], Y_cuped[group_control], equal_var=False)\n",
    "\n"
   ],
   "id": "1d93e086444627a2"
  }
 ],
 "metadata": {
  "kernelspec": {
   "display_name": "Python 3",
   "language": "python",
   "name": "python3"
  },
  "language_info": {
   "codemirror_mode": {
    "name": "ipython",
    "version": 2
   },
   "file_extension": ".py",
   "mimetype": "text/x-python",
   "name": "python",
   "nbconvert_exporter": "python",
   "pygments_lexer": "ipython2",
   "version": "2.7.6"
  }
 },
 "nbformat": 4,
 "nbformat_minor": 5
}
