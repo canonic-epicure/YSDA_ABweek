{
 "cells": [
  {
   "cell_type": "code",
   "id": "initial_id",
   "metadata": {
    "collapsed": true,
    "ExecuteTime": {
     "end_time": "2025-07-31T16:44:49.960086Z",
     "start_time": "2025-07-31T16:44:48.884056Z"
    }
   },
   "source": [
    "import pandas as pd\n",
    "import numpy as np\n",
    "import scipy.stats as stats\n",
    "\n",
    "def safe_divide(x, y):\n",
    "    try:\n",
    "        return x / y\n",
    "    except ZeroDivisionError:\n",
    "        return np.nan\n",
    "\n",
    "def delta_var(numerator, denominator):\n",
    "    \"\"\"\n",
    "    Функция для расчета дисперсии дельта-методом, numerator - вектор числитель, denominator - вектор знаменатель\n",
    "    \"\"\"\n",
    "    x = numerator\n",
    "    y = denominator\n",
    "    n = len(x)\n",
    "    mu_x = np.mean(x)\n",
    "    mu_y = np.mean(y)\n",
    "    var_x = np.var(x, ddof=1)\n",
    "    var_y = np.var(y, ddof=1)\n",
    "    cov_xy = np.cov(x, y, ddof=1)[0][1]\n",
    "    delta_var = safe_divide(safe_divide(var_x,mu_y**2)  - 2*cov_xy*safe_divide(mu_x,mu_y**3) + var_y*safe_divide(mu_x**2,mu_y**4), n)\n",
    "    return delta_var\n",
    "\n",
    "\n",
    "data: pd.DataFrame = pd.read_csv('./synthetic_gmv_data_1.2.csv')\n",
    "\n",
    "# agg_1: pd.DataFrame = df.groupby([ 'group_name', 'user_id' ], as_index=False)\n",
    "#\n",
    "# data: pd.DataFrame = agg_1[ 'gmv' ].sum()\n",
    "\n",
    "control = data[data['group_name'] == 'control']\n",
    "test = data[data['group_name'] == 'test']\n",
    "\n",
    "control = control.groupby('user_id', as_index=False).agg(\n",
    "    gmv_sum = ('gmv', 'sum'),\n",
    "    gmv_count = ('gmv', 'count')\n",
    ")\n",
    "\n",
    "test = test.groupby('user_id', as_index=False).agg(\n",
    "    gmv_sum = ('gmv', 'sum'),\n",
    "    gmv_count = ('gmv', 'count')\n",
    ")\n",
    "\n",
    "control, test"
   ],
   "outputs": [
    {
     "data": {
      "text/plain": [
       "(           user_id  gmv_sum  gmv_count\n",
       " 0       00062h7u56      733          1\n",
       " 1       000ic5j18m     2933          6\n",
       " 2       00174ganru     1496          4\n",
       " 3       0018yddvkm     7776          8\n",
       " 4       0018yxz3f4     1671          4\n",
       " ...            ...      ...        ...\n",
       " 147286  zzx6n9u92d     3657          4\n",
       " 147287  zzxa8wbrzd     2118          2\n",
       " 147288  zzxq8adett     2364          4\n",
       " 147289  zzyhn5f9zw     1235          2\n",
       " 147290  zzztoicz6c     3579          5\n",
       " \n",
       " [147291 rows x 3 columns],\n",
       "           user_id  gmv_sum  gmv_count\n",
       " 0      00074uxybk     3187          3\n",
       " 1      000plmykri     1695          5\n",
       " 2      0026yqk83k     1293          3\n",
       " 3      002ioy63br     3862          6\n",
       " 4      0032wrbd7c      765          3\n",
       " ...           ...      ...        ...\n",
       " 49095  zzv633k6jk     3809          7\n",
       " 49096  zzvup22tly     3938          3\n",
       " 49097  zzx7apehbt     3422          4\n",
       " 49098  zzxoenzox7     1141          2\n",
       " 49099  zzyggo4hgm     1923          4\n",
       " \n",
       " [49100 rows x 3 columns])"
      ]
     },
     "execution_count": 84,
     "metadata": {},
     "output_type": "execute_result"
    }
   ],
   "execution_count": 84
  },
  {
   "metadata": {
    "ExecuteTime": {
     "end_time": "2025-07-31T16:44:49.981031Z",
     "start_time": "2025-07-31T16:44:49.969545Z"
    }
   },
   "cell_type": "code",
   "source": [
    "import math\n",
    "gmv_mean_c = control[ 'gmv_sum' ].mean()\n",
    "gmv_mean_t = test[ 'gmv_sum' ].mean()\n",
    "\n",
    "gmv_var_c = control[ 'gmv_sum' ].var(ddof=1)\n",
    "gmv_var_t = test[ 'gmv_sum' ].var(ddof=1)\n",
    "\n",
    "count_mean_c = control[ 'gmv_count' ].mean()\n",
    "count_mean_t = test[ 'gmv_count' ].mean()\n",
    "\n",
    "count_var_c = control[ 'gmv_count' ].var(ddof=1)\n",
    "count_var_t = test[ 'gmv_count' ].var(ddof=1)\n",
    "\n",
    "t_dist = stats.t(df=len(control) + len(test) - 2)\n",
    "norm_dist = stats.norm\n",
    "\n",
    "alfa = 0.05\n",
    "\n",
    "print(gmv_mean_c, gmv_mean_t)\n",
    "print(math.sqrt(gmv_var_c), math.sqrt(gmv_var_t))"
   ],
   "id": "f8084adf93525c8d",
   "outputs": [
    {
     "name": "stdout",
     "output_type": "stream",
     "text": [
      "2847.2169990019756 2870.650366598778\n",
      "1888.2782395366196 1910.657840458099\n"
     ]
    }
   ],
   "execution_count": 85
  },
  {
   "metadata": {
    "ExecuteTime": {
     "end_time": "2025-07-31T16:44:50.032333Z",
     "start_time": "2025-07-31T16:44:50.025221Z"
    }
   },
   "cell_type": "code",
   "source": [
    "# average gmv delta\n",
    "\n",
    "sigma_aver = math.sqrt(gmv_var_c / len(control) + gmv_var_t / len(test))\n",
    "\n",
    "gmv_average_delta = gmv_mean_t - gmv_mean_c\n",
    "\n",
    "t_stat = t_dist.ppf(1 - alfa / 2)\n",
    "\n",
    "print(gmv_average_delta)\n",
    "\n",
    "l, r = gmv_average_delta - t_stat * sigma_aver, gmv_average_delta + t_stat * sigma_aver\n",
    "\n",
    "round(l.item(), 3), round(r.item(), 3)"
   ],
   "id": "621229b3ac4852be",
   "outputs": [
    {
     "name": "stdout",
     "output_type": "stream",
     "text": [
      "23.433367596802327\n"
     ]
    },
    {
     "data": {
      "text/plain": [
       "(3.975, 42.891)"
      ]
     },
     "execution_count": 86,
     "metadata": {},
     "output_type": "execute_result"
    }
   ],
   "execution_count": 86
  },
  {
   "metadata": {
    "ExecuteTime": {
     "end_time": "2025-07-31T16:44:50.091402Z",
     "start_time": "2025-07-31T16:44:50.083673Z"
    }
   },
   "cell_type": "code",
   "source": [
    "# average gmv uplift\n",
    "uplift = 100 * (gmv_mean_t - gmv_mean_c) / gmv_mean_c\n",
    "\n",
    "# var = delta_var(control['gmv_sum'], test['gmv_sum'])\n",
    "\n",
    "var = 1 / (gmv_mean_c ** 2) * (gmv_var_t / len(test) + (gmv_mean_t / gmv_mean_c) ** 2 * gmv_var_c / len(control))\n",
    "\n",
    "# sigma = 1 / gmv_mean_c * math.sqrt(\n",
    "#     gmv_var_t / len(test) + ((gmv_mean_t / gmv_mean_c) ** 2) * gmv_var_c / len(control)\n",
    "# )\n",
    "\n",
    "sigma = math.sqrt(var)\n",
    "\n",
    "print(uplift)\n",
    "\n",
    "z_stat = t_dist.ppf(1 - alfa / 2)\n",
    "\n",
    "l, r = uplift - 100 * z_stat * sigma, uplift + 100 * z_stat * sigma\n",
    "\n",
    "round(l.item(), 3), round(r.item(), 3)"
   ],
   "id": "ff907774ddbf08ae",
   "outputs": [
    {
     "name": "stdout",
     "output_type": "stream",
     "text": [
      "0.823027103484432\n"
     ]
    },
    {
     "data": {
      "text/plain": [
       "(0.138, 1.508)"
      ]
     },
     "execution_count": 87,
     "metadata": {},
     "output_type": "execute_result"
    }
   ],
   "execution_count": 87
  },
  {
   "metadata": {
    "ExecuteTime": {
     "end_time": "2025-07-31T16:44:50.152359Z",
     "start_time": "2025-07-31T16:44:50.139336Z"
    }
   },
   "cell_type": "code",
   "source": [
    "# average median gmv delta\n",
    "\n",
    "delta = gmv_mean_t / count_mean_t - gmv_mean_c / count_mean_c\n",
    "\n",
    "sigma = math.sqrt(\n",
    "    delta_var(control['gmv_sum'], control['gmv_count'])\n",
    "    + delta_var(test['gmv_sum'], test['gmv_count'])\n",
    ")\n",
    "\n",
    "z_stat = t_dist.ppf(1 - alfa / 2)\n",
    "\n",
    "l, r = delta - z_stat * sigma, delta + z_stat * sigma\n",
    "\n",
    "round(l.item(), 3), round(r.item(), 3)\n"
   ],
   "id": "ecaaa10ef9d807bf",
   "outputs": [
    {
     "data": {
      "text/plain": [
       "(0.652, 7.313)"
      ]
     },
     "execution_count": 88,
     "metadata": {},
     "output_type": "execute_result"
    }
   ],
   "execution_count": 88
  },
  {
   "metadata": {
    "ExecuteTime": {
     "end_time": "2025-07-31T16:44:50.221427Z",
     "start_time": "2025-07-31T16:44:50.205820Z"
    }
   },
   "cell_type": "code",
   "source": [
    "# average median gmv uplift\n",
    "\n",
    "delta = 100 * (gmv_mean_t / count_mean_t - gmv_mean_c / count_mean_c) / (gmv_mean_c / count_mean_c)\n",
    "\n",
    "rt = gmv_mean_t / count_mean_t\n",
    "rc = gmv_mean_c / count_mean_c\n",
    "\n",
    "var = 1 / (rc ** 2) * delta_var(test['gmv_sum'], test['gmv_count']) + (rt ** 2 / rc ** 4) * delta_var(control['gmv_sum'], control['gmv_count'])\n",
    "\n",
    "sigma = math.sqrt(var)\n",
    "\n",
    "z_stat = t_dist.ppf(1 - alfa / 2)\n",
    "\n",
    "l, r = delta - 100 * z_stat * sigma, delta + 100 * z_stat * sigma\n",
    "\n",
    "round(l.item(), 3), round(r.item(), 3)"
   ],
   "id": "9134459eaef0e490",
   "outputs": [
    {
     "data": {
      "text/plain": [
       "(0.092, 1.045)"
      ]
     },
     "execution_count": 89,
     "metadata": {},
     "output_type": "execute_result"
    }
   ],
   "execution_count": 89
  }
 ],
 "metadata": {
  "kernelspec": {
   "display_name": "Python 3",
   "language": "python",
   "name": "python3"
  },
  "language_info": {
   "codemirror_mode": {
    "name": "ipython",
    "version": 2
   },
   "file_extension": ".py",
   "mimetype": "text/x-python",
   "name": "python",
   "nbconvert_exporter": "python",
   "pygments_lexer": "ipython2",
   "version": "2.7.6"
  }
 },
 "nbformat": 4,
 "nbformat_minor": 5
}
