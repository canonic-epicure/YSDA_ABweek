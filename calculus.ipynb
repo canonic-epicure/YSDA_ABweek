{
 "cells": [
  {
   "cell_type": "code",
   "id": "initial_id",
   "metadata": {
    "collapsed": true,
    "ExecuteTime": {
     "end_time": "2025-07-28T10:07:51.628665Z",
     "start_time": "2025-07-28T10:07:49.826919Z"
    }
   },
   "source": [
    "import pandas as pd\n",
    "import numpy as np\n",
    "import scipy.stats as stats\n",
    "\n",
    "\n",
    "df: pd.DataFrame = pd.read_csv('./synthetic_gmv_data_1.1.csv')\n",
    "\n",
    "agg_df: pd.DataFrame = df.groupby('user_id', as_index=False)['gmv'].sum()\n",
    "\n",
    "agg_df"
   ],
   "outputs": [
    {
     "data": {
      "text/plain": [
       "           user_id   gmv\n",
       "0       0001ffmxo2  3766\n",
       "1       000c2glbkl  2456\n",
       "2       000c5yxi7t   700\n",
       "3       000eg9ozf2  5082\n",
       "4       000h7yt1ve  2539\n",
       "...            ...   ...\n",
       "392713  zzygjcccc6  4024\n",
       "392714  zzysosye5a  2161\n",
       "392715  zzz477h6q2  1995\n",
       "392716  zzz7zfdfn0  9539\n",
       "392717  zzz9ykyfbt   943\n",
       "\n",
       "[392718 rows x 2 columns]"
      ],
      "text/html": [
       "<div>\n",
       "<style scoped>\n",
       "    .dataframe tbody tr th:only-of-type {\n",
       "        vertical-align: middle;\n",
       "    }\n",
       "\n",
       "    .dataframe tbody tr th {\n",
       "        vertical-align: top;\n",
       "    }\n",
       "\n",
       "    .dataframe thead th {\n",
       "        text-align: right;\n",
       "    }\n",
       "</style>\n",
       "<table border=\"1\" class=\"dataframe\">\n",
       "  <thead>\n",
       "    <tr style=\"text-align: right;\">\n",
       "      <th></th>\n",
       "      <th>user_id</th>\n",
       "      <th>gmv</th>\n",
       "    </tr>\n",
       "  </thead>\n",
       "  <tbody>\n",
       "    <tr>\n",
       "      <th>0</th>\n",
       "      <td>0001ffmxo2</td>\n",
       "      <td>3766</td>\n",
       "    </tr>\n",
       "    <tr>\n",
       "      <th>1</th>\n",
       "      <td>000c2glbkl</td>\n",
       "      <td>2456</td>\n",
       "    </tr>\n",
       "    <tr>\n",
       "      <th>2</th>\n",
       "      <td>000c5yxi7t</td>\n",
       "      <td>700</td>\n",
       "    </tr>\n",
       "    <tr>\n",
       "      <th>3</th>\n",
       "      <td>000eg9ozf2</td>\n",
       "      <td>5082</td>\n",
       "    </tr>\n",
       "    <tr>\n",
       "      <th>4</th>\n",
       "      <td>000h7yt1ve</td>\n",
       "      <td>2539</td>\n",
       "    </tr>\n",
       "    <tr>\n",
       "      <th>...</th>\n",
       "      <td>...</td>\n",
       "      <td>...</td>\n",
       "    </tr>\n",
       "    <tr>\n",
       "      <th>392713</th>\n",
       "      <td>zzygjcccc6</td>\n",
       "      <td>4024</td>\n",
       "    </tr>\n",
       "    <tr>\n",
       "      <th>392714</th>\n",
       "      <td>zzysosye5a</td>\n",
       "      <td>2161</td>\n",
       "    </tr>\n",
       "    <tr>\n",
       "      <th>392715</th>\n",
       "      <td>zzz477h6q2</td>\n",
       "      <td>1995</td>\n",
       "    </tr>\n",
       "    <tr>\n",
       "      <th>392716</th>\n",
       "      <td>zzz7zfdfn0</td>\n",
       "      <td>9539</td>\n",
       "    </tr>\n",
       "    <tr>\n",
       "      <th>392717</th>\n",
       "      <td>zzz9ykyfbt</td>\n",
       "      <td>943</td>\n",
       "    </tr>\n",
       "  </tbody>\n",
       "</table>\n",
       "<p>392718 rows × 2 columns</p>\n",
       "</div>"
      ]
     },
     "execution_count": 2,
     "metadata": {},
     "output_type": "execute_result"
    }
   ],
   "execution_count": 2
  },
  {
   "metadata": {
    "ExecuteTime": {
     "end_time": "2025-07-28T10:07:57.175987Z",
     "start_time": "2025-07-28T10:07:57.161389Z"
    }
   },
   "cell_type": "code",
   "source": [
    "import math\n",
    "gmv = agg_df['gmv'].to_numpy()\n",
    "\n",
    "mean = gmv.mean()\n",
    "var = gmv.var(ddof=1)\n",
    "\n",
    "round(mean, 3).item(), round(var, 3).item()\n",
    "\n",
    "\n",
    "mean, math.sqrt(var)"
   ],
   "id": "f8084adf93525c8d",
   "outputs": [
    {
     "data": {
      "text/plain": [
       "(np.float64(2750.8467093436), 1909.5099917503012)"
      ]
     },
     "execution_count": 3,
     "metadata": {},
     "output_type": "execute_result"
    }
   ],
   "execution_count": 3
  },
  {
   "metadata": {
    "ExecuteTime": {
     "end_time": "2025-07-28T10:08:00.153469Z",
     "start_time": "2025-07-28T10:08:00.145818Z"
    }
   },
   "cell_type": "code",
   "source": "agg_df['gmv'].mean()",
   "id": "e6346a35d0b870a8",
   "outputs": [
    {
     "data": {
      "text/plain": [
       "np.float64(2750.8467093436)"
      ]
     },
     "execution_count": 4,
     "metadata": {},
     "output_type": "execute_result"
    }
   ],
   "execution_count": 4
  },
  {
   "metadata": {
    "ExecuteTime": {
     "end_time": "2025-07-28T09:42:09.656116Z",
     "start_time": "2025-07-28T09:42:09.647835Z"
    }
   },
   "cell_type": "code",
   "source": [
    "norm = stats.norm(loc=0, scale=1)\n",
    "\n",
    "alfa = 0.05\n",
    "betta = 0.2\n",
    "\n",
    "effect = 0.01 * mean\n",
    "\n",
    "k = 3\n",
    "\n",
    "z = (norm.ppf(1 - alfa / 2) + norm.ppf(1 - betta)) ** 2\n",
    "\n",
    "num = z * (1 + k) * var / effect ** 2 * (1 + 1 / k)\n",
    "num = math.ceil(num)\n",
    "num"
   ],
   "id": "62c514e63592b23b",
   "outputs": [
    {
     "data": {
      "text/plain": [
       "201706"
      ]
     },
     "execution_count": 25,
     "metadata": {},
     "output_type": "execute_result"
    }
   ],
   "execution_count": 25
  }
 ],
 "metadata": {
  "kernelspec": {
   "display_name": "Python 3",
   "language": "python",
   "name": "python3"
  },
  "language_info": {
   "codemirror_mode": {
    "name": "ipython",
    "version": 2
   },
   "file_extension": ".py",
   "mimetype": "text/x-python",
   "name": "python",
   "nbconvert_exporter": "python",
   "pygments_lexer": "ipython2",
   "version": "2.7.6"
  }
 },
 "nbformat": 4,
 "nbformat_minor": 5
}
